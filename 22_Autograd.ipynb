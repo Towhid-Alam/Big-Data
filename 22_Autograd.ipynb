{
  "cells": [
    {
      "cell_type": "markdown",
      "metadata": {
        "id": "view-in-github",
        "colab_type": "text"
      },
      "source": [
        "<a href=\"https://colab.research.google.com/github/Towhid-Alam/Big-Data/blob/main/22_Autograd.ipynb\" target=\"_parent\"><img src=\"https://colab.research.google.com/assets/colab-badge.svg\" alt=\"Open In Colab\"/></a>"
      ]
    },
    {
      "cell_type": "code",
      "execution_count": 1,
      "id": "9b7b980f",
      "metadata": {
        "id": "9b7b980f"
      },
      "outputs": [],
      "source": [
        "# The autograd package provides automatic gradient calculation."
      ]
    },
    {
      "cell_type": "code",
      "execution_count": 2,
      "id": "e3a04852",
      "metadata": {
        "id": "e3a04852"
      },
      "outputs": [],
      "source": [
        "import torch"
      ]
    },
    {
      "cell_type": "code",
      "execution_count": 3,
      "id": "ad7b046c",
      "metadata": {
        "id": "ad7b046c"
      },
      "outputs": [],
      "source": [
        "input = torch.rand(1,3,64,64)\n",
        "labels=torch.rand(1,1000)"
      ]
    },
    {
      "cell_type": "code",
      "execution_count": 4,
      "id": "b6cbd9e8",
      "metadata": {
        "colab": {
          "base_uri": "https://localhost:8080/"
        },
        "id": "b6cbd9e8",
        "outputId": "8b6950ba-ae6f-4dcf-d716-1f893f950158"
      },
      "outputs": [
        {
          "output_type": "stream",
          "name": "stderr",
          "text": [
            "Downloading: \"https://download.pytorch.org/models/resnet18-f37072fd.pth\" to /root/.cache/torch/hub/checkpoints/resnet18-f37072fd.pth\n",
            "100%|██████████| 44.7M/44.7M [00:00<00:00, 124MB/s] \n"
          ]
        }
      ],
      "source": [
        "from torchvision.models import resnet18, ResNet18_Weights\n",
        "model= resnet18(weights=ResNet18_Weights.DEFAULT)\n",
        "pred= model(input)"
      ]
    },
    {
      "cell_type": "code",
      "execution_count": 5,
      "id": "602bde0e",
      "metadata": {
        "id": "602bde0e"
      },
      "outputs": [],
      "source": [
        "loss = (pred - labels).sum()\n",
        "loss.backward()\n",
        "optim= torch.optim.SGD(model.parameters(),lr=.001)\n",
        "optim.step()"
      ]
    },
    {
      "cell_type": "code",
      "execution_count": 6,
      "id": "9beacb26",
      "metadata": {
        "id": "9beacb26"
      },
      "outputs": [],
      "source": [
        "x = torch.rand(5)\n",
        "y = torch.rand(5)\n",
        "z = torch.rand((5), requires_grad=True)"
      ]
    },
    {
      "cell_type": "code",
      "execution_count": 7,
      "id": "46dd020e",
      "metadata": {
        "colab": {
          "base_uri": "https://localhost:8080/"
        },
        "id": "46dd020e",
        "outputId": "1f03bf4c-3a4f-4e24-9854-ed4e5f3746b5"
      },
      "outputs": [
        {
          "output_type": "execute_result",
          "data": {
            "text/plain": [
              "False"
            ]
          },
          "metadata": {},
          "execution_count": 7
        }
      ],
      "source": [
        "a=x+y\n",
        "a.requires_grad"
      ]
    },
    {
      "cell_type": "code",
      "execution_count": 8,
      "id": "c72f85a3",
      "metadata": {
        "colab": {
          "base_uri": "https://localhost:8080/"
        },
        "id": "c72f85a3",
        "outputId": "5a354659-20e3-43e1-ea53-b1069dafc16d"
      },
      "outputs": [
        {
          "output_type": "execute_result",
          "data": {
            "text/plain": [
              "True"
            ]
          },
          "metadata": {},
          "execution_count": 8
        }
      ],
      "source": [
        "b=x+z\n",
        "b.requires_grad"
      ]
    },
    {
      "cell_type": "code",
      "execution_count": 9,
      "id": "3a148ad7",
      "metadata": {
        "colab": {
          "base_uri": "https://localhost:8080/"
        },
        "id": "3a148ad7",
        "outputId": "bf497912-63e1-476a-8ebd-7ed5db6ede9c"
      },
      "outputs": [
        {
          "output_type": "execute_result",
          "data": {
            "text/plain": [
              "True"
            ]
          },
          "metadata": {},
          "execution_count": 9
        }
      ],
      "source": [
        "c=x*z\n",
        "c.requires_grad"
      ]
    },
    {
      "cell_type": "code",
      "execution_count": 10,
      "id": "d679de82",
      "metadata": {
        "colab": {
          "base_uri": "https://localhost:8080/"
        },
        "id": "d679de82",
        "outputId": "f8e36713-61e0-425f-9fb8-3fdff7822598"
      },
      "outputs": [
        {
          "output_type": "execute_result",
          "data": {
            "text/plain": [
              "tensor([0.9693, 1.0277, 0.6534, 0.8246, 0.9524])"
            ]
          },
          "metadata": {},
          "execution_count": 10
        }
      ],
      "source": [
        "a"
      ]
    },
    {
      "cell_type": "code",
      "execution_count": 11,
      "id": "aef60761",
      "metadata": {
        "colab": {
          "base_uri": "https://localhost:8080/"
        },
        "id": "aef60761",
        "outputId": "054ef196-d3ab-47c6-9aae-f0d5a1fc4a66"
      },
      "outputs": [
        {
          "output_type": "execute_result",
          "data": {
            "text/plain": [
              "tensor([0.8299, 1.2003, 0.9919, 0.4172, 1.1396], grad_fn=<AddBackward0>)"
            ]
          },
          "metadata": {},
          "execution_count": 11
        }
      ],
      "source": [
        "b"
      ]
    },
    {
      "cell_type": "code",
      "execution_count": 12,
      "id": "443cfdbf",
      "metadata": {
        "colab": {
          "base_uri": "https://localhost:8080/"
        },
        "id": "443cfdbf",
        "outputId": "6a676e96-e415-4d00-84bd-f72f94cb15f1"
      },
      "outputs": [
        {
          "output_type": "execute_result",
          "data": {
            "text/plain": [
              "tensor([0.0069, 0.3526, 0.2097, 0.0050, 0.2990], grad_fn=<MulBackward0>)"
            ]
          },
          "metadata": {},
          "execution_count": 12
        }
      ],
      "source": [
        "c"
      ]
    },
    {
      "cell_type": "code",
      "execution_count": 13,
      "id": "ac10fb69",
      "metadata": {
        "colab": {
          "base_uri": "https://localhost:8080/"
        },
        "id": "ac10fb69",
        "outputId": "9693c239-9b76-45d4-d54b-34a18cbb6d55"
      },
      "outputs": [
        {
          "output_type": "execute_result",
          "data": {
            "text/plain": [
              "tensor(0.1746, grad_fn=<MeanBackward0>)"
            ]
          },
          "metadata": {},
          "execution_count": 13
        }
      ],
      "source": [
        "c=c.mean()\n",
        "c"
      ]
    },
    {
      "cell_type": "code",
      "execution_count": 14,
      "id": "eb07f9d8",
      "metadata": {
        "id": "eb07f9d8"
      },
      "outputs": [],
      "source": [
        "z.grad"
      ]
    },
    {
      "cell_type": "code",
      "execution_count": 15,
      "id": "b8f7cd40",
      "metadata": {
        "colab": {
          "base_uri": "https://localhost:8080/"
        },
        "id": "b8f7cd40",
        "outputId": "667810ee-8e32-4183-9e15-eb5c2f8170d0"
      },
      "outputs": [
        {
          "output_type": "execute_result",
          "data": {
            "text/plain": [
              "tensor([0.1643, 0.1375, 0.0611, 0.0809, 0.0819])"
            ]
          },
          "metadata": {},
          "execution_count": 15
        }
      ],
      "source": [
        "c.backward()\n",
        "z.grad #gradient dc/dz"
      ]
    },
    {
      "cell_type": "code",
      "execution_count": 16,
      "id": "b8cbce67",
      "metadata": {
        "colab": {
          "base_uri": "https://localhost:8080/"
        },
        "id": "b8cbce67",
        "outputId": "de06688a-7ab7-4dcc-f6cf-95091e1a788a"
      },
      "outputs": [
        {
          "output_type": "stream",
          "name": "stdout",
          "text": [
            "tensor([0.0168, 1.0257, 1.3727, 0.0249, 1.4601])\n"
          ]
        }
      ],
      "source": [
        "with torch.no_grad():\n",
        "    print(z*2)"
      ]
    },
    {
      "cell_type": "code",
      "execution_count": 17,
      "id": "d5df2973",
      "metadata": {
        "id": "d5df2973"
      },
      "outputs": [],
      "source": [
        "#D from scratch"
      ]
    },
    {
      "cell_type": "code",
      "execution_count": 18,
      "id": "93931181",
      "metadata": {
        "id": "93931181"
      },
      "outputs": [],
      "source": [
        "x = torch.tensor(1.0)\n",
        "y = torch.tensor(2.0)\n",
        "w = torch.tensor(1.0, requires_grad=True) #parameter we want to optimi"
      ]
    },
    {
      "cell_type": "code",
      "execution_count": 19,
      "id": "7d929343",
      "metadata": {
        "colab": {
          "base_uri": "https://localhost:8080/"
        },
        "id": "7d929343",
        "outputId": "8fe201a6-fd3f-4842-db25-1e09e78f8d21"
      },
      "outputs": [
        {
          "output_type": "execute_result",
          "data": {
            "text/plain": [
              "tensor(1., requires_grad=True)"
            ]
          },
          "metadata": {},
          "execution_count": 19
        }
      ],
      "source": [
        "w"
      ]
    },
    {
      "cell_type": "code",
      "execution_count": 20,
      "id": "6c309a3c",
      "metadata": {
        "colab": {
          "base_uri": "https://localhost:8080/"
        },
        "id": "6c309a3c",
        "outputId": "214d3387-bb4e-442c-bf09-72bed2f81425"
      },
      "outputs": [
        {
          "output_type": "execute_result",
          "data": {
            "text/plain": [
              "tensor(-2.)"
            ]
          },
          "metadata": {},
          "execution_count": 20
        }
      ],
      "source": [
        "#Forward pass to compute loss\n",
        "pred = w*x    #forward pass\n",
        "loss = (pred - y)**2 #loss\n",
        "#Backward pass to compute gradients using chain rule\n",
        "loss.backward() #backward pass\n",
        "w.grad # dloss/dw (partial derivatives)"
      ]
    },
    {
      "cell_type": "code",
      "execution_count": 21,
      "id": "667c745b",
      "metadata": {
        "colab": {
          "base_uri": "https://localhost:8080/"
        },
        "id": "667c745b",
        "outputId": "c86e43f4-97ba-4bfa-a1bc-644ada4e9650"
      },
      "outputs": [
        {
          "output_type": "execute_result",
          "data": {
            "text/plain": [
              "tensor(0.)"
            ]
          },
          "metadata": {},
          "execution_count": 21
        }
      ],
      "source": [
        "w.grad.zero_() #set gradient to zero"
      ]
    },
    {
      "cell_type": "code",
      "execution_count": 22,
      "id": "5f036f57",
      "metadata": {
        "colab": {
          "base_uri": "https://localhost:8080/"
        },
        "id": "5f036f57",
        "outputId": "0087aea1-ca1c-4f93-9d38-de04ce57de53"
      },
      "outputs": [
        {
          "output_type": "execute_result",
          "data": {
            "text/plain": [
              "(tensor(3.), tensor(4., requires_grad=True), tensor(1., requires_grad=True))"
            ]
          },
          "metadata": {},
          "execution_count": 22
        }
      ],
      "source": [
        "x= torch.tensor(3.)\n",
        "w= torch.tensor(4., requires_grad=True)\n",
        "b= torch.tensor(1., requires_grad=True)\n",
        "x, w, b"
      ]
    },
    {
      "cell_type": "code",
      "execution_count": 23,
      "id": "a6bf0bf8",
      "metadata": {
        "id": "a6bf0bf8"
      },
      "outputs": [],
      "source": [
        "y = w * x + b"
      ]
    },
    {
      "cell_type": "code",
      "execution_count": 24,
      "id": "b094e10f",
      "metadata": {
        "colab": {
          "base_uri": "https://localhost:8080/"
        },
        "id": "b094e10f",
        "outputId": "9de7e35a-1766-45ed-9664-ffb71cba37a2"
      },
      "outputs": [
        {
          "output_type": "execute_result",
          "data": {
            "text/plain": [
              "tensor(13., grad_fn=<AddBackward0>)"
            ]
          },
          "metadata": {},
          "execution_count": 24
        }
      ],
      "source": [
        "y"
      ]
    },
    {
      "cell_type": "code",
      "execution_count": 25,
      "id": "2325c3d5",
      "metadata": {
        "id": "2325c3d5"
      },
      "outputs": [],
      "source": [
        "y.backward()"
      ]
    },
    {
      "cell_type": "code",
      "execution_count": 26,
      "id": "741d71ca",
      "metadata": {
        "colab": {
          "base_uri": "https://localhost:8080/"
        },
        "id": "741d71ca",
        "outputId": "6fbd5671-9226-423e-b4ee-513ba3f35b33"
      },
      "outputs": [
        {
          "output_type": "stream",
          "name": "stdout",
          "text": [
            "None\n"
          ]
        }
      ],
      "source": [
        "print(x.grad)"
      ]
    },
    {
      "cell_type": "code",
      "execution_count": 27,
      "id": "f6a7b295",
      "metadata": {
        "colab": {
          "base_uri": "https://localhost:8080/"
        },
        "id": "f6a7b295",
        "outputId": "01e5a551-84b9-4247-cb49-527ffe982e87"
      },
      "outputs": [
        {
          "output_type": "stream",
          "name": "stdout",
          "text": [
            "tensor(3.)\n"
          ]
        }
      ],
      "source": [
        "print(w.grad)"
      ]
    },
    {
      "cell_type": "code",
      "execution_count": 28,
      "id": "34f162b6",
      "metadata": {
        "colab": {
          "base_uri": "https://localhost:8080/"
        },
        "id": "34f162b6",
        "outputId": "7909503f-3a4a-4471-f1f5-5a20441c4a69"
      },
      "outputs": [
        {
          "output_type": "stream",
          "name": "stdout",
          "text": [
            "tensor(1.)\n"
          ]
        }
      ],
      "source": [
        "print(b.grad)"
      ]
    },
    {
      "cell_type": "code",
      "execution_count": null,
      "id": "53bcec44",
      "metadata": {
        "id": "53bcec44"
      },
      "outputs": [],
      "source": []
    }
  ],
  "metadata": {
    "kernelspec": {
      "display_name": "Python 3 (ipykernel)",
      "language": "python",
      "name": "python3"
    },
    "language_info": {
      "codemirror_mode": {
        "name": "ipython",
        "version": 3
      },
      "file_extension": ".py",
      "mimetype": "text/x-python",
      "name": "python",
      "nbconvert_exporter": "python",
      "pygments_lexer": "ipython3",
      "version": "3.9.13"
    },
    "colab": {
      "provenance": [],
      "include_colab_link": true
    }
  },
  "nbformat": 4,
  "nbformat_minor": 5
}