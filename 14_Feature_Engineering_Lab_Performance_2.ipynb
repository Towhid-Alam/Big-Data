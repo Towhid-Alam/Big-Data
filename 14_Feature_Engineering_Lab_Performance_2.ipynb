{
  "cells": [
    {
      "cell_type": "markdown",
      "metadata": {
        "id": "view-in-github",
        "colab_type": "text"
      },
      "source": [
        "<a href=\"https://colab.research.google.com/github/Towhid-Alam/Big-Data/blob/main/14_Feature_Engineering_Lab_Performance_2.ipynb\" target=\"_parent\"><img src=\"https://colab.research.google.com/assets/colab-badge.svg\" alt=\"Open In Colab\"/></a>"
      ]
    },
    {
      "cell_type": "code",
      "execution_count": null,
      "id": "f15b3d14",
      "metadata": {
        "id": "f15b3d14"
      },
      "outputs": [],
      "source": [
        "import numpy as np\n",
        "import pandas as pd\n",
        "import matplotlib.pyplot as plt\n",
        "import seaborn as sns"
      ]
    },
    {
      "cell_type": "code",
      "execution_count": null,
      "id": "442babd8",
      "metadata": {
        "id": "442babd8"
      },
      "outputs": [],
      "source": [
        "import warnings\n",
        "warnings.filterwarnings(\"ignore\")"
      ]
    },
    {
      "cell_type": "code",
      "execution_count": null,
      "id": "7c0f13ca",
      "metadata": {
        "id": "7c0f13ca",
        "outputId": "1641c05c-3191-45e9-9b78-78a903591a88"
      },
      "outputs": [
        {
          "data": {
            "text/html": [
              "<div>\n",
              "<style scoped>\n",
              "    .dataframe tbody tr th:only-of-type {\n",
              "        vertical-align: middle;\n",
              "    }\n",
              "\n",
              "    .dataframe tbody tr th {\n",
              "        vertical-align: top;\n",
              "    }\n",
              "\n",
              "    .dataframe thead th {\n",
              "        text-align: right;\n",
              "    }\n",
              "</style>\n",
              "<table border=\"1\" class=\"dataframe\">\n",
              "  <thead>\n",
              "    <tr style=\"text-align: right;\">\n",
              "      <th></th>\n",
              "      <th>brand</th>\n",
              "      <th>km_driven</th>\n",
              "      <th>fuel</th>\n",
              "      <th>owner</th>\n",
              "      <th>selling_price</th>\n",
              "    </tr>\n",
              "  </thead>\n",
              "  <tbody>\n",
              "    <tr>\n",
              "      <th>0</th>\n",
              "      <td>Maruti</td>\n",
              "      <td>145500</td>\n",
              "      <td>Diesel</td>\n",
              "      <td>First Owner</td>\n",
              "      <td>450000</td>\n",
              "    </tr>\n",
              "    <tr>\n",
              "      <th>1</th>\n",
              "      <td>Skoda</td>\n",
              "      <td>120000</td>\n",
              "      <td>Diesel</td>\n",
              "      <td>Second Owner</td>\n",
              "      <td>370000</td>\n",
              "    </tr>\n",
              "    <tr>\n",
              "      <th>2</th>\n",
              "      <td>Honda</td>\n",
              "      <td>140000</td>\n",
              "      <td>Petrol</td>\n",
              "      <td>Third Owner</td>\n",
              "      <td>158000</td>\n",
              "    </tr>\n",
              "    <tr>\n",
              "      <th>3</th>\n",
              "      <td>Hyundai</td>\n",
              "      <td>127000</td>\n",
              "      <td>Diesel</td>\n",
              "      <td>First Owner</td>\n",
              "      <td>225000</td>\n",
              "    </tr>\n",
              "    <tr>\n",
              "      <th>4</th>\n",
              "      <td>Maruti</td>\n",
              "      <td>120000</td>\n",
              "      <td>Petrol</td>\n",
              "      <td>First Owner</td>\n",
              "      <td>130000</td>\n",
              "    </tr>\n",
              "    <tr>\n",
              "      <th>...</th>\n",
              "      <td>...</td>\n",
              "      <td>...</td>\n",
              "      <td>...</td>\n",
              "      <td>...</td>\n",
              "      <td>...</td>\n",
              "    </tr>\n",
              "    <tr>\n",
              "      <th>8123</th>\n",
              "      <td>Hyundai</td>\n",
              "      <td>110000</td>\n",
              "      <td>Petrol</td>\n",
              "      <td>First Owner</td>\n",
              "      <td>320000</td>\n",
              "    </tr>\n",
              "    <tr>\n",
              "      <th>8124</th>\n",
              "      <td>Hyundai</td>\n",
              "      <td>119000</td>\n",
              "      <td>Diesel</td>\n",
              "      <td>Fourth &amp; Above Owner</td>\n",
              "      <td>135000</td>\n",
              "    </tr>\n",
              "    <tr>\n",
              "      <th>8125</th>\n",
              "      <td>Maruti</td>\n",
              "      <td>120000</td>\n",
              "      <td>Diesel</td>\n",
              "      <td>First Owner</td>\n",
              "      <td>382000</td>\n",
              "    </tr>\n",
              "    <tr>\n",
              "      <th>8126</th>\n",
              "      <td>Tata</td>\n",
              "      <td>25000</td>\n",
              "      <td>Diesel</td>\n",
              "      <td>First Owner</td>\n",
              "      <td>290000</td>\n",
              "    </tr>\n",
              "    <tr>\n",
              "      <th>8127</th>\n",
              "      <td>Tata</td>\n",
              "      <td>25000</td>\n",
              "      <td>Diesel</td>\n",
              "      <td>First Owner</td>\n",
              "      <td>290000</td>\n",
              "    </tr>\n",
              "  </tbody>\n",
              "</table>\n",
              "<p>8128 rows × 5 columns</p>\n",
              "</div>"
            ],
            "text/plain": [
              "        brand  km_driven    fuel                 owner  selling_price\n",
              "0      Maruti     145500  Diesel           First Owner         450000\n",
              "1       Skoda     120000  Diesel          Second Owner         370000\n",
              "2       Honda     140000  Petrol           Third Owner         158000\n",
              "3     Hyundai     127000  Diesel           First Owner         225000\n",
              "4      Maruti     120000  Petrol           First Owner         130000\n",
              "...       ...        ...     ...                   ...            ...\n",
              "8123  Hyundai     110000  Petrol           First Owner         320000\n",
              "8124  Hyundai     119000  Diesel  Fourth & Above Owner         135000\n",
              "8125   Maruti     120000  Diesel           First Owner         382000\n",
              "8126     Tata      25000  Diesel           First Owner         290000\n",
              "8127     Tata      25000  Diesel           First Owner         290000\n",
              "\n",
              "[8128 rows x 5 columns]"
            ]
          },
          "execution_count": 205,
          "metadata": {},
          "output_type": "execute_result"
        }
      ],
      "source": [
        "df = pd.read_csv('C:/Users/Administrator/Downloads/ML/ML/Data/cars.csv')\n",
        "df"
      ]
    },
    {
      "cell_type": "markdown",
      "id": "6888f83b",
      "metadata": {
        "id": "6888f83b"
      },
      "source": [
        "# Null value handling"
      ]
    },
    {
      "cell_type": "code",
      "execution_count": null,
      "id": "7b71fbf1",
      "metadata": {
        "id": "7b71fbf1"
      },
      "outputs": [],
      "source": []
    },
    {
      "cell_type": "code",
      "execution_count": null,
      "id": "8c4a334e",
      "metadata": {
        "id": "8c4a334e",
        "outputId": "d6c9e59e-eea1-4f2f-b89d-9ed051f52fc0"
      },
      "outputs": [
        {
          "data": {
            "text/plain": [
              "brand            0\n",
              "km_driven        0\n",
              "fuel             0\n",
              "owner            0\n",
              "selling_price    0\n",
              "dtype: int64"
            ]
          },
          "execution_count": 206,
          "metadata": {},
          "output_type": "execute_result"
        }
      ],
      "source": [
        "df.isnull().sum()"
      ]
    },
    {
      "cell_type": "markdown",
      "id": "aa5e0968",
      "metadata": {
        "id": "aa5e0968"
      },
      "source": [
        "# Ordinal Encoding"
      ]
    },
    {
      "cell_type": "code",
      "execution_count": null,
      "id": "43893040",
      "metadata": {
        "id": "43893040",
        "outputId": "686e8bf7-462f-411d-c08f-ec43b1bcba12"
      },
      "outputs": [
        {
          "data": {
            "text/html": [
              "<div>\n",
              "<style scoped>\n",
              "    .dataframe tbody tr th:only-of-type {\n",
              "        vertical-align: middle;\n",
              "    }\n",
              "\n",
              "    .dataframe tbody tr th {\n",
              "        vertical-align: top;\n",
              "    }\n",
              "\n",
              "    .dataframe thead th {\n",
              "        text-align: right;\n",
              "    }\n",
              "</style>\n",
              "<table border=\"1\" class=\"dataframe\">\n",
              "  <thead>\n",
              "    <tr style=\"text-align: right;\">\n",
              "      <th></th>\n",
              "      <th>brand</th>\n",
              "      <th>fuel</th>\n",
              "    </tr>\n",
              "  </thead>\n",
              "  <tbody>\n",
              "    <tr>\n",
              "      <th>0</th>\n",
              "      <td>Maruti</td>\n",
              "      <td>Diesel</td>\n",
              "    </tr>\n",
              "    <tr>\n",
              "      <th>1</th>\n",
              "      <td>Skoda</td>\n",
              "      <td>Diesel</td>\n",
              "    </tr>\n",
              "    <tr>\n",
              "      <th>2</th>\n",
              "      <td>Honda</td>\n",
              "      <td>Petrol</td>\n",
              "    </tr>\n",
              "    <tr>\n",
              "      <th>3</th>\n",
              "      <td>Hyundai</td>\n",
              "      <td>Diesel</td>\n",
              "    </tr>\n",
              "    <tr>\n",
              "      <th>4</th>\n",
              "      <td>Maruti</td>\n",
              "      <td>Petrol</td>\n",
              "    </tr>\n",
              "    <tr>\n",
              "      <th>...</th>\n",
              "      <td>...</td>\n",
              "      <td>...</td>\n",
              "    </tr>\n",
              "    <tr>\n",
              "      <th>8123</th>\n",
              "      <td>Hyundai</td>\n",
              "      <td>Petrol</td>\n",
              "    </tr>\n",
              "    <tr>\n",
              "      <th>8124</th>\n",
              "      <td>Hyundai</td>\n",
              "      <td>Diesel</td>\n",
              "    </tr>\n",
              "    <tr>\n",
              "      <th>8125</th>\n",
              "      <td>Maruti</td>\n",
              "      <td>Diesel</td>\n",
              "    </tr>\n",
              "    <tr>\n",
              "      <th>8126</th>\n",
              "      <td>Tata</td>\n",
              "      <td>Diesel</td>\n",
              "    </tr>\n",
              "    <tr>\n",
              "      <th>8127</th>\n",
              "      <td>Tata</td>\n",
              "      <td>Diesel</td>\n",
              "    </tr>\n",
              "  </tbody>\n",
              "</table>\n",
              "<p>8128 rows × 2 columns</p>\n",
              "</div>"
            ],
            "text/plain": [
              "        brand    fuel\n",
              "0      Maruti  Diesel\n",
              "1       Skoda  Diesel\n",
              "2       Honda  Petrol\n",
              "3     Hyundai  Diesel\n",
              "4      Maruti  Petrol\n",
              "...       ...     ...\n",
              "8123  Hyundai  Petrol\n",
              "8124  Hyundai  Diesel\n",
              "8125   Maruti  Diesel\n",
              "8126     Tata  Diesel\n",
              "8127     Tata  Diesel\n",
              "\n",
              "[8128 rows x 2 columns]"
            ]
          },
          "execution_count": 207,
          "metadata": {},
          "output_type": "execute_result"
        }
      ],
      "source": [
        "df[['brand', 'fuel']]\n"
      ]
    },
    {
      "cell_type": "code",
      "execution_count": null,
      "id": "3a08ee7d",
      "metadata": {
        "id": "3a08ee7d",
        "outputId": "6abe0637-186b-4b82-87d8-7d65c7208add"
      },
      "outputs": [
        {
          "data": {
            "text/plain": [
              "array(['Maruti', 'Skoda', 'Honda', 'Hyundai', 'Toyota', 'Ford', 'Renault',\n",
              "       'Mahindra', 'Tata', 'Chevrolet', 'Fiat', 'Datsun', 'Jeep',\n",
              "       'Mercedes-Benz', 'Mitsubishi', 'Audi', 'Volkswagen', 'BMW',\n",
              "       'Nissan', 'Lexus', 'Jaguar', 'Land', 'MG', 'Volvo', 'Daewoo',\n",
              "       'Kia', 'Force', 'Ambassador', 'Ashok', 'Isuzu', 'Opel', 'Peugeot'],\n",
              "      dtype=object)"
            ]
          },
          "execution_count": 208,
          "metadata": {},
          "output_type": "execute_result"
        }
      ],
      "source": [
        "df['brand'].unique()"
      ]
    },
    {
      "cell_type": "code",
      "execution_count": null,
      "id": "07eec634",
      "metadata": {
        "id": "07eec634",
        "outputId": "73c1085e-369b-47f3-e667-6714383429e8"
      },
      "outputs": [
        {
          "data": {
            "text/plain": [
              "array(['Diesel', 'Petrol', 'LPG', 'CNG'], dtype=object)"
            ]
          },
          "execution_count": 209,
          "metadata": {},
          "output_type": "execute_result"
        }
      ],
      "source": [
        "df['fuel'].unique()"
      ]
    },
    {
      "cell_type": "code",
      "execution_count": null,
      "id": "2483a2e5",
      "metadata": {
        "id": "2483a2e5"
      },
      "outputs": [],
      "source": [
        "from sklearn.preprocessing import OrdinalEncoder\n",
        "oe = OrdinalEncoder(categories=[['Maruti', 'Skoda', 'Honda', 'Hyundai', 'Toyota', 'Ford', 'Renault',\n",
        "       'Mahindra', 'Tata', 'Chevrolet', 'Fiat', 'Datsun', 'Jeep',\n",
        "       'Mercedes-Benz', 'Mitsubishi', 'Audi', 'Volkswagen', 'BMW',\n",
        "       'Nissan', 'Lexus', 'Jaguar', 'Land', 'MG', 'Volvo', 'Daewoo',\n",
        "       'Kia', 'Force', 'Ambassador', 'Ashok', 'Isuzu', 'Opel', 'Peugeot'],['Diesel', 'Petrol', 'LPG', 'CNG']])\n",
        "df[['brand', 'fuel']]= oe.fit_transform(df[['brand', 'fuel']])"
      ]
    },
    {
      "cell_type": "code",
      "execution_count": null,
      "id": "68c5adff",
      "metadata": {
        "id": "68c5adff",
        "outputId": "57aa0a38-860a-44e5-b976-ae06a05e28ba"
      },
      "outputs": [
        {
          "data": {
            "text/plain": [
              "[array(['Maruti', 'Skoda', 'Honda', 'Hyundai', 'Toyota', 'Ford', 'Renault',\n",
              "        'Mahindra', 'Tata', 'Chevrolet', 'Fiat', 'Datsun', 'Jeep',\n",
              "        'Mercedes-Benz', 'Mitsubishi', 'Audi', 'Volkswagen', 'BMW',\n",
              "        'Nissan', 'Lexus', 'Jaguar', 'Land', 'MG', 'Volvo', 'Daewoo',\n",
              "        'Kia', 'Force', 'Ambassador', 'Ashok', 'Isuzu', 'Opel', 'Peugeot'],\n",
              "       dtype=object),\n",
              " array(['Diesel', 'Petrol', 'LPG', 'CNG'], dtype=object)]"
            ]
          },
          "execution_count": 211,
          "metadata": {},
          "output_type": "execute_result"
        }
      ],
      "source": [
        "oe.categories_"
      ]
    },
    {
      "cell_type": "code",
      "execution_count": null,
      "id": "aab7b86c",
      "metadata": {
        "id": "aab7b86c",
        "outputId": "a941fbb6-1294-407c-f7b6-f49d140bd209"
      },
      "outputs": [
        {
          "data": {
            "text/html": [
              "<div>\n",
              "<style scoped>\n",
              "    .dataframe tbody tr th:only-of-type {\n",
              "        vertical-align: middle;\n",
              "    }\n",
              "\n",
              "    .dataframe tbody tr th {\n",
              "        vertical-align: top;\n",
              "    }\n",
              "\n",
              "    .dataframe thead th {\n",
              "        text-align: right;\n",
              "    }\n",
              "</style>\n",
              "<table border=\"1\" class=\"dataframe\">\n",
              "  <thead>\n",
              "    <tr style=\"text-align: right;\">\n",
              "      <th></th>\n",
              "      <th>brand</th>\n",
              "      <th>fuel</th>\n",
              "    </tr>\n",
              "  </thead>\n",
              "  <tbody>\n",
              "    <tr>\n",
              "      <th>0</th>\n",
              "      <td>0.0</td>\n",
              "      <td>0.0</td>\n",
              "    </tr>\n",
              "    <tr>\n",
              "      <th>1</th>\n",
              "      <td>1.0</td>\n",
              "      <td>0.0</td>\n",
              "    </tr>\n",
              "    <tr>\n",
              "      <th>2</th>\n",
              "      <td>2.0</td>\n",
              "      <td>1.0</td>\n",
              "    </tr>\n",
              "    <tr>\n",
              "      <th>3</th>\n",
              "      <td>3.0</td>\n",
              "      <td>0.0</td>\n",
              "    </tr>\n",
              "    <tr>\n",
              "      <th>4</th>\n",
              "      <td>0.0</td>\n",
              "      <td>1.0</td>\n",
              "    </tr>\n",
              "    <tr>\n",
              "      <th>...</th>\n",
              "      <td>...</td>\n",
              "      <td>...</td>\n",
              "    </tr>\n",
              "    <tr>\n",
              "      <th>8123</th>\n",
              "      <td>3.0</td>\n",
              "      <td>1.0</td>\n",
              "    </tr>\n",
              "    <tr>\n",
              "      <th>8124</th>\n",
              "      <td>3.0</td>\n",
              "      <td>0.0</td>\n",
              "    </tr>\n",
              "    <tr>\n",
              "      <th>8125</th>\n",
              "      <td>0.0</td>\n",
              "      <td>0.0</td>\n",
              "    </tr>\n",
              "    <tr>\n",
              "      <th>8126</th>\n",
              "      <td>8.0</td>\n",
              "      <td>0.0</td>\n",
              "    </tr>\n",
              "    <tr>\n",
              "      <th>8127</th>\n",
              "      <td>8.0</td>\n",
              "      <td>0.0</td>\n",
              "    </tr>\n",
              "  </tbody>\n",
              "</table>\n",
              "<p>8128 rows × 2 columns</p>\n",
              "</div>"
            ],
            "text/plain": [
              "      brand  fuel\n",
              "0       0.0   0.0\n",
              "1       1.0   0.0\n",
              "2       2.0   1.0\n",
              "3       3.0   0.0\n",
              "4       0.0   1.0\n",
              "...     ...   ...\n",
              "8123    3.0   1.0\n",
              "8124    3.0   0.0\n",
              "8125    0.0   0.0\n",
              "8126    8.0   0.0\n",
              "8127    8.0   0.0\n",
              "\n",
              "[8128 rows x 2 columns]"
            ]
          },
          "execution_count": 212,
          "metadata": {},
          "output_type": "execute_result"
        }
      ],
      "source": [
        "df[['brand', 'fuel']]"
      ]
    },
    {
      "cell_type": "markdown",
      "id": "7bca9ced",
      "metadata": {
        "id": "7bca9ced"
      },
      "source": [
        "# One hot Encoding"
      ]
    },
    {
      "cell_type": "code",
      "execution_count": null,
      "id": "9105389f",
      "metadata": {
        "id": "9105389f",
        "outputId": "433f9346-2e5b-4e4d-d4ee-5f613dccc069"
      },
      "outputs": [
        {
          "data": {
            "text/plain": [
              "First Owner             5289\n",
              "Second Owner            2105\n",
              "Third Owner              555\n",
              "Fourth & Above Owner     174\n",
              "Test Drive Car             5\n",
              "Name: owner, dtype: int64"
            ]
          },
          "execution_count": 213,
          "metadata": {},
          "output_type": "execute_result"
        }
      ],
      "source": [
        "df['owner'].value_counts()"
      ]
    },
    {
      "cell_type": "code",
      "execution_count": null,
      "id": "3f4356b7",
      "metadata": {
        "id": "3f4356b7",
        "outputId": "5bc5ad39-dc35-48ea-b46b-13270761f322"
      },
      "outputs": [
        {
          "data": {
            "text/html": [
              "<div>\n",
              "<style scoped>\n",
              "    .dataframe tbody tr th:only-of-type {\n",
              "        vertical-align: middle;\n",
              "    }\n",
              "\n",
              "    .dataframe tbody tr th {\n",
              "        vertical-align: top;\n",
              "    }\n",
              "\n",
              "    .dataframe thead th {\n",
              "        text-align: right;\n",
              "    }\n",
              "</style>\n",
              "<table border=\"1\" class=\"dataframe\">\n",
              "  <thead>\n",
              "    <tr style=\"text-align: right;\">\n",
              "      <th></th>\n",
              "      <th>brand</th>\n",
              "      <th>km_driven</th>\n",
              "      <th>fuel</th>\n",
              "      <th>selling_price</th>\n",
              "      <th>owner_First Owner</th>\n",
              "      <th>owner_Fourth &amp; Above Owner</th>\n",
              "      <th>owner_Second Owner</th>\n",
              "      <th>owner_Test Drive Car</th>\n",
              "      <th>owner_Third Owner</th>\n",
              "    </tr>\n",
              "  </thead>\n",
              "  <tbody>\n",
              "    <tr>\n",
              "      <th>0</th>\n",
              "      <td>0.0</td>\n",
              "      <td>145500</td>\n",
              "      <td>0.0</td>\n",
              "      <td>450000</td>\n",
              "      <td>1</td>\n",
              "      <td>0</td>\n",
              "      <td>0</td>\n",
              "      <td>0</td>\n",
              "      <td>0</td>\n",
              "    </tr>\n",
              "    <tr>\n",
              "      <th>1</th>\n",
              "      <td>1.0</td>\n",
              "      <td>120000</td>\n",
              "      <td>0.0</td>\n",
              "      <td>370000</td>\n",
              "      <td>0</td>\n",
              "      <td>0</td>\n",
              "      <td>1</td>\n",
              "      <td>0</td>\n",
              "      <td>0</td>\n",
              "    </tr>\n",
              "    <tr>\n",
              "      <th>2</th>\n",
              "      <td>2.0</td>\n",
              "      <td>140000</td>\n",
              "      <td>1.0</td>\n",
              "      <td>158000</td>\n",
              "      <td>0</td>\n",
              "      <td>0</td>\n",
              "      <td>0</td>\n",
              "      <td>0</td>\n",
              "      <td>1</td>\n",
              "    </tr>\n",
              "    <tr>\n",
              "      <th>3</th>\n",
              "      <td>3.0</td>\n",
              "      <td>127000</td>\n",
              "      <td>0.0</td>\n",
              "      <td>225000</td>\n",
              "      <td>1</td>\n",
              "      <td>0</td>\n",
              "      <td>0</td>\n",
              "      <td>0</td>\n",
              "      <td>0</td>\n",
              "    </tr>\n",
              "    <tr>\n",
              "      <th>4</th>\n",
              "      <td>0.0</td>\n",
              "      <td>120000</td>\n",
              "      <td>1.0</td>\n",
              "      <td>130000</td>\n",
              "      <td>1</td>\n",
              "      <td>0</td>\n",
              "      <td>0</td>\n",
              "      <td>0</td>\n",
              "      <td>0</td>\n",
              "    </tr>\n",
              "    <tr>\n",
              "      <th>...</th>\n",
              "      <td>...</td>\n",
              "      <td>...</td>\n",
              "      <td>...</td>\n",
              "      <td>...</td>\n",
              "      <td>...</td>\n",
              "      <td>...</td>\n",
              "      <td>...</td>\n",
              "      <td>...</td>\n",
              "      <td>...</td>\n",
              "    </tr>\n",
              "    <tr>\n",
              "      <th>8123</th>\n",
              "      <td>3.0</td>\n",
              "      <td>110000</td>\n",
              "      <td>1.0</td>\n",
              "      <td>320000</td>\n",
              "      <td>1</td>\n",
              "      <td>0</td>\n",
              "      <td>0</td>\n",
              "      <td>0</td>\n",
              "      <td>0</td>\n",
              "    </tr>\n",
              "    <tr>\n",
              "      <th>8124</th>\n",
              "      <td>3.0</td>\n",
              "      <td>119000</td>\n",
              "      <td>0.0</td>\n",
              "      <td>135000</td>\n",
              "      <td>0</td>\n",
              "      <td>1</td>\n",
              "      <td>0</td>\n",
              "      <td>0</td>\n",
              "      <td>0</td>\n",
              "    </tr>\n",
              "    <tr>\n",
              "      <th>8125</th>\n",
              "      <td>0.0</td>\n",
              "      <td>120000</td>\n",
              "      <td>0.0</td>\n",
              "      <td>382000</td>\n",
              "      <td>1</td>\n",
              "      <td>0</td>\n",
              "      <td>0</td>\n",
              "      <td>0</td>\n",
              "      <td>0</td>\n",
              "    </tr>\n",
              "    <tr>\n",
              "      <th>8126</th>\n",
              "      <td>8.0</td>\n",
              "      <td>25000</td>\n",
              "      <td>0.0</td>\n",
              "      <td>290000</td>\n",
              "      <td>1</td>\n",
              "      <td>0</td>\n",
              "      <td>0</td>\n",
              "      <td>0</td>\n",
              "      <td>0</td>\n",
              "    </tr>\n",
              "    <tr>\n",
              "      <th>8127</th>\n",
              "      <td>8.0</td>\n",
              "      <td>25000</td>\n",
              "      <td>0.0</td>\n",
              "      <td>290000</td>\n",
              "      <td>1</td>\n",
              "      <td>0</td>\n",
              "      <td>0</td>\n",
              "      <td>0</td>\n",
              "      <td>0</td>\n",
              "    </tr>\n",
              "  </tbody>\n",
              "</table>\n",
              "<p>8128 rows × 9 columns</p>\n",
              "</div>"
            ],
            "text/plain": [
              "      brand  km_driven  fuel  selling_price  owner_First Owner  \\\n",
              "0       0.0     145500   0.0         450000                  1   \n",
              "1       1.0     120000   0.0         370000                  0   \n",
              "2       2.0     140000   1.0         158000                  0   \n",
              "3       3.0     127000   0.0         225000                  1   \n",
              "4       0.0     120000   1.0         130000                  1   \n",
              "...     ...        ...   ...            ...                ...   \n",
              "8123    3.0     110000   1.0         320000                  1   \n",
              "8124    3.0     119000   0.0         135000                  0   \n",
              "8125    0.0     120000   0.0         382000                  1   \n",
              "8126    8.0      25000   0.0         290000                  1   \n",
              "8127    8.0      25000   0.0         290000                  1   \n",
              "\n",
              "      owner_Fourth & Above Owner  owner_Second Owner  owner_Test Drive Car  \\\n",
              "0                              0                   0                     0   \n",
              "1                              0                   1                     0   \n",
              "2                              0                   0                     0   \n",
              "3                              0                   0                     0   \n",
              "4                              0                   0                     0   \n",
              "...                          ...                 ...                   ...   \n",
              "8123                           0                   0                     0   \n",
              "8124                           1                   0                     0   \n",
              "8125                           0                   0                     0   \n",
              "8126                           0                   0                     0   \n",
              "8127                           0                   0                     0   \n",
              "\n",
              "      owner_Third Owner  \n",
              "0                     0  \n",
              "1                     0  \n",
              "2                     1  \n",
              "3                     0  \n",
              "4                     0  \n",
              "...                 ...  \n",
              "8123                  0  \n",
              "8124                  0  \n",
              "8125                  0  \n",
              "8126                  0  \n",
              "8127                  0  \n",
              "\n",
              "[8128 rows x 9 columns]"
            ]
          },
          "execution_count": 214,
          "metadata": {},
          "output_type": "execute_result"
        }
      ],
      "source": [
        "#using dummy variable (pandas)\n",
        "dummies= pd.get_dummies(df, columns = ['owner'])\n",
        "dummies"
      ]
    },
    {
      "cell_type": "code",
      "execution_count": null,
      "id": "96cee7d7",
      "metadata": {
        "id": "96cee7d7",
        "outputId": "44ebc610-6d71-4c8c-b10c-2b5490e9c71c"
      },
      "outputs": [
        {
          "data": {
            "text/html": [
              "<div>\n",
              "<style scoped>\n",
              "    .dataframe tbody tr th:only-of-type {\n",
              "        vertical-align: middle;\n",
              "    }\n",
              "\n",
              "    .dataframe tbody tr th {\n",
              "        vertical-align: top;\n",
              "    }\n",
              "\n",
              "    .dataframe thead th {\n",
              "        text-align: right;\n",
              "    }\n",
              "</style>\n",
              "<table border=\"1\" class=\"dataframe\">\n",
              "  <thead>\n",
              "    <tr style=\"text-align: right;\">\n",
              "      <th></th>\n",
              "      <th>brand</th>\n",
              "      <th>km_driven</th>\n",
              "      <th>fuel</th>\n",
              "      <th>owner</th>\n",
              "      <th>selling_price</th>\n",
              "    </tr>\n",
              "  </thead>\n",
              "  <tbody>\n",
              "    <tr>\n",
              "      <th>0</th>\n",
              "      <td>0.0</td>\n",
              "      <td>145500</td>\n",
              "      <td>0.0</td>\n",
              "      <td>First Owner</td>\n",
              "      <td>450000</td>\n",
              "    </tr>\n",
              "    <tr>\n",
              "      <th>1</th>\n",
              "      <td>1.0</td>\n",
              "      <td>120000</td>\n",
              "      <td>0.0</td>\n",
              "      <td>Second Owner</td>\n",
              "      <td>370000</td>\n",
              "    </tr>\n",
              "    <tr>\n",
              "      <th>2</th>\n",
              "      <td>2.0</td>\n",
              "      <td>140000</td>\n",
              "      <td>1.0</td>\n",
              "      <td>Third Owner</td>\n",
              "      <td>158000</td>\n",
              "    </tr>\n",
              "    <tr>\n",
              "      <th>3</th>\n",
              "      <td>3.0</td>\n",
              "      <td>127000</td>\n",
              "      <td>0.0</td>\n",
              "      <td>First Owner</td>\n",
              "      <td>225000</td>\n",
              "    </tr>\n",
              "    <tr>\n",
              "      <th>4</th>\n",
              "      <td>0.0</td>\n",
              "      <td>120000</td>\n",
              "      <td>1.0</td>\n",
              "      <td>First Owner</td>\n",
              "      <td>130000</td>\n",
              "    </tr>\n",
              "    <tr>\n",
              "      <th>...</th>\n",
              "      <td>...</td>\n",
              "      <td>...</td>\n",
              "      <td>...</td>\n",
              "      <td>...</td>\n",
              "      <td>...</td>\n",
              "    </tr>\n",
              "    <tr>\n",
              "      <th>8123</th>\n",
              "      <td>3.0</td>\n",
              "      <td>110000</td>\n",
              "      <td>1.0</td>\n",
              "      <td>First Owner</td>\n",
              "      <td>320000</td>\n",
              "    </tr>\n",
              "    <tr>\n",
              "      <th>8124</th>\n",
              "      <td>3.0</td>\n",
              "      <td>119000</td>\n",
              "      <td>0.0</td>\n",
              "      <td>Fourth &amp; Above Owner</td>\n",
              "      <td>135000</td>\n",
              "    </tr>\n",
              "    <tr>\n",
              "      <th>8125</th>\n",
              "      <td>0.0</td>\n",
              "      <td>120000</td>\n",
              "      <td>0.0</td>\n",
              "      <td>First Owner</td>\n",
              "      <td>382000</td>\n",
              "    </tr>\n",
              "    <tr>\n",
              "      <th>8126</th>\n",
              "      <td>8.0</td>\n",
              "      <td>25000</td>\n",
              "      <td>0.0</td>\n",
              "      <td>First Owner</td>\n",
              "      <td>290000</td>\n",
              "    </tr>\n",
              "    <tr>\n",
              "      <th>8127</th>\n",
              "      <td>8.0</td>\n",
              "      <td>25000</td>\n",
              "      <td>0.0</td>\n",
              "      <td>First Owner</td>\n",
              "      <td>290000</td>\n",
              "    </tr>\n",
              "  </tbody>\n",
              "</table>\n",
              "<p>8128 rows × 5 columns</p>\n",
              "</div>"
            ],
            "text/plain": [
              "      brand  km_driven  fuel                 owner  selling_price\n",
              "0       0.0     145500   0.0           First Owner         450000\n",
              "1       1.0     120000   0.0          Second Owner         370000\n",
              "2       2.0     140000   1.0           Third Owner         158000\n",
              "3       3.0     127000   0.0           First Owner         225000\n",
              "4       0.0     120000   1.0           First Owner         130000\n",
              "...     ...        ...   ...                   ...            ...\n",
              "8123    3.0     110000   1.0           First Owner         320000\n",
              "8124    3.0     119000   0.0  Fourth & Above Owner         135000\n",
              "8125    0.0     120000   0.0           First Owner         382000\n",
              "8126    8.0      25000   0.0           First Owner         290000\n",
              "8127    8.0      25000   0.0           First Owner         290000\n",
              "\n",
              "[8128 rows x 5 columns]"
            ]
          },
          "execution_count": 217,
          "metadata": {},
          "output_type": "execute_result"
        }
      ],
      "source": [
        "df"
      ]
    },
    {
      "cell_type": "code",
      "execution_count": null,
      "id": "a98d6d6d",
      "metadata": {
        "id": "a98d6d6d",
        "outputId": "d7c094dd-dbea-44a0-e85a-689128bfea3e"
      },
      "outputs": [
        {
          "data": {
            "text/html": [
              "<div>\n",
              "<style scoped>\n",
              "    .dataframe tbody tr th:only-of-type {\n",
              "        vertical-align: middle;\n",
              "    }\n",
              "\n",
              "    .dataframe tbody tr th {\n",
              "        vertical-align: top;\n",
              "    }\n",
              "\n",
              "    .dataframe thead th {\n",
              "        text-align: right;\n",
              "    }\n",
              "</style>\n",
              "<table border=\"1\" class=\"dataframe\">\n",
              "  <thead>\n",
              "    <tr style=\"text-align: right;\">\n",
              "      <th></th>\n",
              "      <th>brand</th>\n",
              "      <th>km_driven</th>\n",
              "      <th>fuel</th>\n",
              "      <th>owner</th>\n",
              "      <th>selling_price</th>\n",
              "    </tr>\n",
              "  </thead>\n",
              "  <tbody>\n",
              "    <tr>\n",
              "      <th>0</th>\n",
              "      <td>0.0</td>\n",
              "      <td>145500</td>\n",
              "      <td>0.0</td>\n",
              "      <td>First Owner</td>\n",
              "      <td>450000</td>\n",
              "    </tr>\n",
              "    <tr>\n",
              "      <th>1</th>\n",
              "      <td>1.0</td>\n",
              "      <td>120000</td>\n",
              "      <td>0.0</td>\n",
              "      <td>Second Owner</td>\n",
              "      <td>370000</td>\n",
              "    </tr>\n",
              "    <tr>\n",
              "      <th>2</th>\n",
              "      <td>2.0</td>\n",
              "      <td>140000</td>\n",
              "      <td>1.0</td>\n",
              "      <td>Third Owner</td>\n",
              "      <td>158000</td>\n",
              "    </tr>\n",
              "    <tr>\n",
              "      <th>3</th>\n",
              "      <td>3.0</td>\n",
              "      <td>127000</td>\n",
              "      <td>0.0</td>\n",
              "      <td>First Owner</td>\n",
              "      <td>225000</td>\n",
              "    </tr>\n",
              "    <tr>\n",
              "      <th>4</th>\n",
              "      <td>0.0</td>\n",
              "      <td>120000</td>\n",
              "      <td>1.0</td>\n",
              "      <td>First Owner</td>\n",
              "      <td>130000</td>\n",
              "    </tr>\n",
              "    <tr>\n",
              "      <th>...</th>\n",
              "      <td>...</td>\n",
              "      <td>...</td>\n",
              "      <td>...</td>\n",
              "      <td>...</td>\n",
              "      <td>...</td>\n",
              "    </tr>\n",
              "    <tr>\n",
              "      <th>8123</th>\n",
              "      <td>3.0</td>\n",
              "      <td>110000</td>\n",
              "      <td>1.0</td>\n",
              "      <td>First Owner</td>\n",
              "      <td>320000</td>\n",
              "    </tr>\n",
              "    <tr>\n",
              "      <th>8124</th>\n",
              "      <td>3.0</td>\n",
              "      <td>119000</td>\n",
              "      <td>0.0</td>\n",
              "      <td>Fourth &amp; Above Owner</td>\n",
              "      <td>135000</td>\n",
              "    </tr>\n",
              "    <tr>\n",
              "      <th>8125</th>\n",
              "      <td>0.0</td>\n",
              "      <td>120000</td>\n",
              "      <td>0.0</td>\n",
              "      <td>First Owner</td>\n",
              "      <td>382000</td>\n",
              "    </tr>\n",
              "    <tr>\n",
              "      <th>8126</th>\n",
              "      <td>8.0</td>\n",
              "      <td>25000</td>\n",
              "      <td>0.0</td>\n",
              "      <td>First Owner</td>\n",
              "      <td>290000</td>\n",
              "    </tr>\n",
              "    <tr>\n",
              "      <th>8127</th>\n",
              "      <td>8.0</td>\n",
              "      <td>25000</td>\n",
              "      <td>0.0</td>\n",
              "      <td>First Owner</td>\n",
              "      <td>290000</td>\n",
              "    </tr>\n",
              "  </tbody>\n",
              "</table>\n",
              "<p>8128 rows × 5 columns</p>\n",
              "</div>"
            ],
            "text/plain": [
              "      brand  km_driven  fuel                 owner  selling_price\n",
              "0       0.0     145500   0.0           First Owner         450000\n",
              "1       1.0     120000   0.0          Second Owner         370000\n",
              "2       2.0     140000   1.0           Third Owner         158000\n",
              "3       3.0     127000   0.0           First Owner         225000\n",
              "4       0.0     120000   1.0           First Owner         130000\n",
              "...     ...        ...   ...                   ...            ...\n",
              "8123    3.0     110000   1.0           First Owner         320000\n",
              "8124    3.0     119000   0.0  Fourth & Above Owner         135000\n",
              "8125    0.0     120000   0.0           First Owner         382000\n",
              "8126    8.0      25000   0.0           First Owner         290000\n",
              "8127    8.0      25000   0.0           First Owner         290000\n",
              "\n",
              "[8128 rows x 5 columns]"
            ]
          },
          "execution_count": 216,
          "metadata": {},
          "output_type": "execute_result"
        }
      ],
      "source": [
        "df"
      ]
    },
    {
      "cell_type": "code",
      "execution_count": null,
      "id": "2ffc32c0",
      "metadata": {
        "id": "2ffc32c0",
        "outputId": "0f3ee23b-740a-40d3-b404-5b2ad2282924"
      },
      "outputs": [
        {
          "data": {
            "text/html": [
              "<div>\n",
              "<style scoped>\n",
              "    .dataframe tbody tr th:only-of-type {\n",
              "        vertical-align: middle;\n",
              "    }\n",
              "\n",
              "    .dataframe tbody tr th {\n",
              "        vertical-align: top;\n",
              "    }\n",
              "\n",
              "    .dataframe thead th {\n",
              "        text-align: right;\n",
              "    }\n",
              "</style>\n",
              "<table border=\"1\" class=\"dataframe\">\n",
              "  <thead>\n",
              "    <tr style=\"text-align: right;\">\n",
              "      <th></th>\n",
              "      <th>brand</th>\n",
              "      <th>km_driven</th>\n",
              "      <th>fuel</th>\n",
              "      <th>owner</th>\n",
              "      <th>selling_price</th>\n",
              "    </tr>\n",
              "  </thead>\n",
              "  <tbody>\n",
              "    <tr>\n",
              "      <th>4293</th>\n",
              "      <td>2.0</td>\n",
              "      <td>50000</td>\n",
              "      <td>1.0</td>\n",
              "      <td>First Owner</td>\n",
              "      <td>750000</td>\n",
              "    </tr>\n",
              "    <tr>\n",
              "      <th>6294</th>\n",
              "      <td>3.0</td>\n",
              "      <td>56000</td>\n",
              "      <td>1.0</td>\n",
              "      <td>Second Owner</td>\n",
              "      <td>195000</td>\n",
              "    </tr>\n",
              "    <tr>\n",
              "      <th>157</th>\n",
              "      <td>0.0</td>\n",
              "      <td>46100</td>\n",
              "      <td>1.0</td>\n",
              "      <td>First Owner</td>\n",
              "      <td>599000</td>\n",
              "    </tr>\n",
              "    <tr>\n",
              "      <th>194</th>\n",
              "      <td>0.0</td>\n",
              "      <td>60000</td>\n",
              "      <td>1.0</td>\n",
              "      <td>Second Owner</td>\n",
              "      <td>459999</td>\n",
              "    </tr>\n",
              "    <tr>\n",
              "      <th>6167</th>\n",
              "      <td>19.0</td>\n",
              "      <td>20000</td>\n",
              "      <td>1.0</td>\n",
              "      <td>First Owner</td>\n",
              "      <td>5150000</td>\n",
              "    </tr>\n",
              "  </tbody>\n",
              "</table>\n",
              "</div>"
            ],
            "text/plain": [
              "      brand  km_driven  fuel         owner  selling_price\n",
              "4293    2.0      50000   1.0   First Owner         750000\n",
              "6294    3.0      56000   1.0  Second Owner         195000\n",
              "157     0.0      46100   1.0   First Owner         599000\n",
              "194     0.0      60000   1.0  Second Owner         459999\n",
              "6167   19.0      20000   1.0   First Owner        5150000"
            ]
          },
          "execution_count": 180,
          "metadata": {},
          "output_type": "execute_result"
        }
      ],
      "source": [
        "df.sample(5)"
      ]
    },
    {
      "cell_type": "code",
      "execution_count": null,
      "id": "1bac02ff",
      "metadata": {
        "id": "1bac02ff"
      },
      "outputs": [],
      "source": [
        "X= df.drop('owner', axis=1)\n",
        "y= df['owner']"
      ]
    },
    {
      "cell_type": "markdown",
      "id": "974a0e01",
      "metadata": {
        "id": "974a0e01"
      },
      "source": [
        "# Scaling"
      ]
    },
    {
      "cell_type": "code",
      "execution_count": null,
      "id": "f362e3a8",
      "metadata": {
        "id": "f362e3a8"
      },
      "outputs": [],
      "source": []
    },
    {
      "cell_type": "code",
      "execution_count": null,
      "id": "66ce06c2",
      "metadata": {
        "id": "66ce06c2",
        "outputId": "52ac13de-080c-4a72-d8ac-7bdd38ef151d"
      },
      "outputs": [
        {
          "data": {
            "text/plain": [
              "((5689, 4), (2439, 4))"
            ]
          },
          "execution_count": 182,
          "metadata": {},
          "output_type": "execute_result"
        }
      ],
      "source": [
        "from sklearn.model_selection import train_test_split\n",
        "X_train, X_test, y_train, y_test = train_test_split(X,y,test_size=0.3,random_state=1)\n",
        "X_train.shape, X_test.shape"
      ]
    },
    {
      "cell_type": "code",
      "execution_count": null,
      "id": "a2e1fb1b",
      "metadata": {
        "id": "a2e1fb1b"
      },
      "outputs": [],
      "source": [
        "#x' = (x- mean)/std\n",
        "\n",
        "from sklearn.preprocessing import StandardScaler\n",
        "scaler = StandardScaler()\n",
        "\n",
        "# transform train and test sets\n",
        "X_train_scaled = scaler.fit_transform(X_train)\n",
        "X_test_scaled = scaler.transform(X_test)\n",
        "\n"
      ]
    },
    {
      "cell_type": "code",
      "execution_count": null,
      "id": "e31b5f5f",
      "metadata": {
        "id": "e31b5f5f",
        "outputId": "85c0601f-39f6-4451-ea7c-9c35ddb2598a"
      },
      "outputs": [
        {
          "data": {
            "text/plain": [
              "array([4.73967305e+00, 6.99157710e+04, 4.76885217e-01, 6.45591706e+05])"
            ]
          },
          "execution_count": 184,
          "metadata": {},
          "output_type": "execute_result"
        }
      ],
      "source": [
        "scaler.mean_"
      ]
    },
    {
      "cell_type": "code",
      "execution_count": null,
      "id": "7db5db61",
      "metadata": {
        "id": "7db5db61"
      },
      "outputs": [],
      "source": [
        "X_train_scaled = pd.DataFrame(X_train_scaled, columns=X_train.columns)\n",
        "X_test_scaled = pd.DataFrame(X_test_scaled, columns=X_test.columns)"
      ]
    },
    {
      "cell_type": "code",
      "execution_count": null,
      "id": "289f56a1",
      "metadata": {
        "id": "289f56a1",
        "outputId": "829ebd51-ebe8-4e8a-f735-1e29c764e40b"
      },
      "outputs": [
        {
          "data": {
            "image/png": "[encoded data removed]",
            "text/plain": [
              "<Figure size 1152x360 with 2 Axes>"
            ]
          },
          "metadata": {
            "needs_background": "light"
          },
          "output_type": "display_data"
        }
      ],
      "source": [
        "plt.figure(figsize=(16,5))\n",
        "plt.subplot(1,2,1)\n",
        "plt.scatter(X_train['km_driven'], X_train['fuel'])\n",
        "plt.xlabel('km_driven')\n",
        "plt.ylabel('fuel')\n",
        "plt.title('Before Scaling')\n",
        "\n",
        "plt.subplot(1,2,2)\n",
        "plt.scatter(X_train_scaled['km_driven'], X_train_scaled['selling_price'],color='red')\n",
        "plt.xlabel('km_driven')\n",
        "plt.ylabel('fuel')\n",
        "plt.title('After Scaling')\n",
        "\n",
        "\n",
        "plt.show()"
      ]
    },
    {
      "cell_type": "markdown",
      "id": "bcd4debf",
      "metadata": {
        "id": "bcd4debf"
      },
      "source": [
        "# Outlier"
      ]
    },
    {
      "cell_type": "code",
      "execution_count": null,
      "id": "6cdb4769",
      "metadata": {
        "id": "6cdb4769",
        "outputId": "13488231-cd1a-4912-9206-0c75f11c5354"
      },
      "outputs": [
        {
          "data": {
            "image/png": "[encoded data removed]",
            "text/plain": [
              "<Figure size 1152x360 with 2 Axes>"
            ]
          },
          "metadata": {
            "needs_background": "light"
          },
          "output_type": "display_data"
        }
      ],
      "source": [
        "plt.figure(figsize=(16,5))\n",
        "plt.subplot(1,2,1)\n",
        "sns.distplot(df['km_driven'])\n",
        "\n",
        "plt.subplot(1,2,2)\n",
        "sns.distplot(df['selling_price'])\n",
        "\n",
        "plt.show()"
      ]
    },
    {
      "cell_type": "markdown",
      "id": "ce341b2c",
      "metadata": {
        "id": "ce341b2c"
      },
      "source": [
        "# Outlier in Normal Distribution (km_driven)"
      ]
    },
    {
      "cell_type": "code",
      "execution_count": null,
      "id": "319fa90a",
      "metadata": {
        "id": "319fa90a",
        "outputId": "30453553-b2cf-4337-db2e-cd7dfed76895"
      },
      "outputs": [
        {
          "data": {
            "text/plain": [
              "11.170909783549087"
            ]
          },
          "execution_count": 188,
          "metadata": {},
          "output_type": "execute_result"
        }
      ],
      "source": [
        "df['km_driven'].skew()"
      ]
    },
    {
      "cell_type": "code",
      "execution_count": null,
      "id": "562fec85",
      "metadata": {
        "id": "562fec85",
        "outputId": "540dc0ac-60f9-495e-8355-61de34a5f28d"
      },
      "outputs": [
        {
          "name": "stdout",
          "output_type": "stream",
          "text": [
            "Mean value of km_driven 69819.51082677166\n",
            "Std value of km_driven 56550.554958218585\n",
            "Min value of km_driven 1\n",
            "Max value of km_driven 2360457\n"
          ]
        }
      ],
      "source": [
        "print(\"Mean value of km_driven\",df['km_driven'].mean())\n",
        "print(\"Std value of km_driven\",df['km_driven'].std())\n",
        "print(\"Min value of km_driven\",df['km_driven'].min())\n",
        "print(\"Max value of km_driven\",df['km_driven'].max())"
      ]
    },
    {
      "cell_type": "code",
      "execution_count": null,
      "id": "7ea6e9e0",
      "metadata": {
        "id": "7ea6e9e0"
      },
      "outputs": [],
      "source": []
    },
    {
      "cell_type": "code",
      "execution_count": null,
      "id": "ad8911c7",
      "metadata": {
        "id": "ad8911c7"
      },
      "outputs": [],
      "source": [
        "upper_limit= df['km_driven'].mean() + 3*df['km_driven'].std()\n",
        "lower_limit= df['km_driven'].mean() - 3*df['km_driven'].std()"
      ]
    },
    {
      "cell_type": "code",
      "execution_count": null,
      "id": "7fa05465",
      "metadata": {
        "id": "7fa05465",
        "outputId": "92c6aeeb-c474-4525-d3f3-81187b3c8a68"
      },
      "outputs": [
        {
          "data": {
            "text/html": [
              "<div>\n",
              "<style scoped>\n",
              "    .dataframe tbody tr th:only-of-type {\n",
              "        vertical-align: middle;\n",
              "    }\n",
              "\n",
              "    .dataframe tbody tr th {\n",
              "        vertical-align: top;\n",
              "    }\n",
              "\n",
              "    .dataframe thead th {\n",
              "        text-align: right;\n",
              "    }\n",
              "</style>\n",
              "<table border=\"1\" class=\"dataframe\">\n",
              "  <thead>\n",
              "    <tr style=\"text-align: right;\">\n",
              "      <th></th>\n",
              "      <th>brand</th>\n",
              "      <th>km_driven</th>\n",
              "      <th>fuel</th>\n",
              "      <th>owner</th>\n",
              "      <th>selling_price</th>\n",
              "    </tr>\n",
              "  </thead>\n",
              "  <tbody>\n",
              "    <tr>\n",
              "      <th>394</th>\n",
              "      <td>4.0</td>\n",
              "      <td>240000</td>\n",
              "      <td>0.0</td>\n",
              "      <td>Third Owner</td>\n",
              "      <td>250000</td>\n",
              "    </tr>\n",
              "    <tr>\n",
              "      <th>401</th>\n",
              "      <td>8.0</td>\n",
              "      <td>265000</td>\n",
              "      <td>0.0</td>\n",
              "      <td>Second Owner</td>\n",
              "      <td>95000</td>\n",
              "    </tr>\n",
              "    <tr>\n",
              "      <th>461</th>\n",
              "      <td>4.0</td>\n",
              "      <td>250000</td>\n",
              "      <td>0.0</td>\n",
              "      <td>First Owner</td>\n",
              "      <td>730000</td>\n",
              "    </tr>\n",
              "    <tr>\n",
              "      <th>886</th>\n",
              "      <td>7.0</td>\n",
              "      <td>300000</td>\n",
              "      <td>0.0</td>\n",
              "      <td>Third Owner</td>\n",
              "      <td>320000</td>\n",
              "    </tr>\n",
              "    <tr>\n",
              "      <th>998</th>\n",
              "      <td>0.0</td>\n",
              "      <td>360003</td>\n",
              "      <td>1.0</td>\n",
              "      <td>Second Owner</td>\n",
              "      <td>220000</td>\n",
              "    </tr>\n",
              "    <tr>\n",
              "      <th>...</th>\n",
              "      <td>...</td>\n",
              "      <td>...</td>\n",
              "      <td>...</td>\n",
              "      <td>...</td>\n",
              "      <td>...</td>\n",
              "    </tr>\n",
              "    <tr>\n",
              "      <th>7645</th>\n",
              "      <td>8.0</td>\n",
              "      <td>250000</td>\n",
              "      <td>0.0</td>\n",
              "      <td>Second Owner</td>\n",
              "      <td>110000</td>\n",
              "    </tr>\n",
              "    <tr>\n",
              "      <th>7945</th>\n",
              "      <td>4.0</td>\n",
              "      <td>250000</td>\n",
              "      <td>0.0</td>\n",
              "      <td>First Owner</td>\n",
              "      <td>730000</td>\n",
              "    </tr>\n",
              "    <tr>\n",
              "      <th>7969</th>\n",
              "      <td>4.0</td>\n",
              "      <td>250000</td>\n",
              "      <td>0.0</td>\n",
              "      <td>First Owner</td>\n",
              "      <td>730000</td>\n",
              "    </tr>\n",
              "    <tr>\n",
              "      <th>8030</th>\n",
              "      <td>8.0</td>\n",
              "      <td>300000</td>\n",
              "      <td>0.0</td>\n",
              "      <td>First Owner</td>\n",
              "      <td>275000</td>\n",
              "    </tr>\n",
              "    <tr>\n",
              "      <th>8077</th>\n",
              "      <td>4.0</td>\n",
              "      <td>250000</td>\n",
              "      <td>0.0</td>\n",
              "      <td>First Owner</td>\n",
              "      <td>550000</td>\n",
              "    </tr>\n",
              "  </tbody>\n",
              "</table>\n",
              "<p>72 rows × 5 columns</p>\n",
              "</div>"
            ],
            "text/plain": [
              "      brand  km_driven  fuel         owner  selling_price\n",
              "394     4.0     240000   0.0   Third Owner         250000\n",
              "401     8.0     265000   0.0  Second Owner          95000\n",
              "461     4.0     250000   0.0   First Owner         730000\n",
              "886     7.0     300000   0.0   Third Owner         320000\n",
              "998     0.0     360003   1.0  Second Owner         220000\n",
              "...     ...        ...   ...           ...            ...\n",
              "7645    8.0     250000   0.0  Second Owner         110000\n",
              "7945    4.0     250000   0.0   First Owner         730000\n",
              "7969    4.0     250000   0.0   First Owner         730000\n",
              "8030    8.0     300000   0.0   First Owner         275000\n",
              "8077    4.0     250000   0.0   First Owner         550000\n",
              "\n",
              "[72 rows x 5 columns]"
            ]
          },
          "execution_count": 191,
          "metadata": {},
          "output_type": "execute_result"
        }
      ],
      "source": [
        "outlier = df[(df['km_driven'] > upper_limit) | (df['km_driven'] < lower_limit)]\n",
        "outlier"
      ]
    },
    {
      "cell_type": "code",
      "execution_count": null,
      "id": "a7273397",
      "metadata": {
        "id": "a7273397",
        "outputId": "1fa55209-c5e8-4fad-fcb4-1923f65f87ba"
      },
      "outputs": [
        {
          "data": {
            "text/plain": [
              "(8056, 5)"
            ]
          },
          "execution_count": 192,
          "metadata": {},
          "output_type": "execute_result"
        }
      ],
      "source": [
        "# Removing outlier\n",
        "new_df = df[(df['km_driven'] < upper_limit) & (df['km_driven'] > lower_limit)]\n",
        "new_df.shape"
      ]
    },
    {
      "cell_type": "code",
      "execution_count": null,
      "id": "ebc19565",
      "metadata": {
        "id": "ebc19565"
      },
      "outputs": [],
      "source": [
        "df['km_driven_zscore'] = (df['km_driven'] - df['km_driven'].mean())/df['km_driven'].std()"
      ]
    },
    {
      "cell_type": "code",
      "execution_count": null,
      "id": "952161eb",
      "metadata": {
        "id": "952161eb",
        "outputId": "bc3ccac8-9560-47b5-9ad1-8e367f78217e"
      },
      "outputs": [
        {
          "data": {
            "text/html": [
              "<div>\n",
              "<style scoped>\n",
              "    .dataframe tbody tr th:only-of-type {\n",
              "        vertical-align: middle;\n",
              "    }\n",
              "\n",
              "    .dataframe tbody tr th {\n",
              "        vertical-align: top;\n",
              "    }\n",
              "\n",
              "    .dataframe thead th {\n",
              "        text-align: right;\n",
              "    }\n",
              "</style>\n",
              "<table border=\"1\" class=\"dataframe\">\n",
              "  <thead>\n",
              "    <tr style=\"text-align: right;\">\n",
              "      <th></th>\n",
              "      <th>brand</th>\n",
              "      <th>km_driven</th>\n",
              "      <th>fuel</th>\n",
              "      <th>owner</th>\n",
              "      <th>selling_price</th>\n",
              "      <th>km_driven_zscore</th>\n",
              "    </tr>\n",
              "  </thead>\n",
              "  <tbody>\n",
              "    <tr>\n",
              "      <th>394</th>\n",
              "      <td>4.0</td>\n",
              "      <td>240000</td>\n",
              "      <td>0.0</td>\n",
              "      <td>Third Owner</td>\n",
              "      <td>250000</td>\n",
              "      <td>3.009351</td>\n",
              "    </tr>\n",
              "    <tr>\n",
              "      <th>401</th>\n",
              "      <td>8.0</td>\n",
              "      <td>265000</td>\n",
              "      <td>0.0</td>\n",
              "      <td>Second Owner</td>\n",
              "      <td>95000</td>\n",
              "      <td>3.451434</td>\n",
              "    </tr>\n",
              "    <tr>\n",
              "      <th>461</th>\n",
              "      <td>4.0</td>\n",
              "      <td>250000</td>\n",
              "      <td>0.0</td>\n",
              "      <td>First Owner</td>\n",
              "      <td>730000</td>\n",
              "      <td>3.186184</td>\n",
              "    </tr>\n",
              "    <tr>\n",
              "      <th>886</th>\n",
              "      <td>7.0</td>\n",
              "      <td>300000</td>\n",
              "      <td>0.0</td>\n",
              "      <td>Third Owner</td>\n",
              "      <td>320000</td>\n",
              "      <td>4.070349</td>\n",
              "    </tr>\n",
              "    <tr>\n",
              "      <th>998</th>\n",
              "      <td>0.0</td>\n",
              "      <td>360003</td>\n",
              "      <td>1.0</td>\n",
              "      <td>Second Owner</td>\n",
              "      <td>220000</td>\n",
              "      <td>5.131399</td>\n",
              "    </tr>\n",
              "    <tr>\n",
              "      <th>...</th>\n",
              "      <td>...</td>\n",
              "      <td>...</td>\n",
              "      <td>...</td>\n",
              "      <td>...</td>\n",
              "      <td>...</td>\n",
              "      <td>...</td>\n",
              "    </tr>\n",
              "    <tr>\n",
              "      <th>7645</th>\n",
              "      <td>8.0</td>\n",
              "      <td>250000</td>\n",
              "      <td>0.0</td>\n",
              "      <td>Second Owner</td>\n",
              "      <td>110000</td>\n",
              "      <td>3.186184</td>\n",
              "    </tr>\n",
              "    <tr>\n",
              "      <th>7945</th>\n",
              "      <td>4.0</td>\n",
              "      <td>250000</td>\n",
              "      <td>0.0</td>\n",
              "      <td>First Owner</td>\n",
              "      <td>730000</td>\n",
              "      <td>3.186184</td>\n",
              "    </tr>\n",
              "    <tr>\n",
              "      <th>7969</th>\n",
              "      <td>4.0</td>\n",
              "      <td>250000</td>\n",
              "      <td>0.0</td>\n",
              "      <td>First Owner</td>\n",
              "      <td>730000</td>\n",
              "      <td>3.186184</td>\n",
              "    </tr>\n",
              "    <tr>\n",
              "      <th>8030</th>\n",
              "      <td>8.0</td>\n",
              "      <td>300000</td>\n",
              "      <td>0.0</td>\n",
              "      <td>First Owner</td>\n",
              "      <td>275000</td>\n",
              "      <td>4.070349</td>\n",
              "    </tr>\n",
              "    <tr>\n",
              "      <th>8077</th>\n",
              "      <td>4.0</td>\n",
              "      <td>250000</td>\n",
              "      <td>0.0</td>\n",
              "      <td>First Owner</td>\n",
              "      <td>550000</td>\n",
              "      <td>3.186184</td>\n",
              "    </tr>\n",
              "  </tbody>\n",
              "</table>\n",
              "<p>72 rows × 6 columns</p>\n",
              "</div>"
            ],
            "text/plain": [
              "      brand  km_driven  fuel         owner  selling_price  km_driven_zscore\n",
              "394     4.0     240000   0.0   Third Owner         250000          3.009351\n",
              "401     8.0     265000   0.0  Second Owner          95000          3.451434\n",
              "461     4.0     250000   0.0   First Owner         730000          3.186184\n",
              "886     7.0     300000   0.0   Third Owner         320000          4.070349\n",
              "998     0.0     360003   1.0  Second Owner         220000          5.131399\n",
              "...     ...        ...   ...           ...            ...               ...\n",
              "7645    8.0     250000   0.0  Second Owner         110000          3.186184\n",
              "7945    4.0     250000   0.0   First Owner         730000          3.186184\n",
              "7969    4.0     250000   0.0   First Owner         730000          3.186184\n",
              "8030    8.0     300000   0.0   First Owner         275000          4.070349\n",
              "8077    4.0     250000   0.0   First Owner         550000          3.186184\n",
              "\n",
              "[72 rows x 6 columns]"
            ]
          },
          "execution_count": 194,
          "metadata": {},
          "output_type": "execute_result"
        }
      ],
      "source": [
        "outlier = df[(df['km_driven_zscore'] > 3) | (df['km_driven_zscore'] < -3)]\n",
        "outlier"
      ]
    },
    {
      "cell_type": "code",
      "execution_count": null,
      "id": "8475cdbc",
      "metadata": {
        "id": "8475cdbc",
        "outputId": "de8b2e1b-c43b-4670-a4e7-24235700aa11"
      },
      "outputs": [
        {
          "data": {
            "text/plain": [
              "(8056, 6)"
            ]
          },
          "execution_count": 195,
          "metadata": {},
          "output_type": "execute_result"
        }
      ],
      "source": [
        "new_df1 = df[(df['km_driven_zscore'] < 3 ) & (df['km_driven_zscore'] > -3)]\n",
        "new_df1.shape"
      ]
    },
    {
      "cell_type": "code",
      "execution_count": null,
      "id": "6c8a4bad",
      "metadata": {
        "id": "6c8a4bad",
        "outputId": "690ff605-c792-48c2-b9a0-02980f26a483"
      },
      "outputs": [
        {
          "data": {
            "text/plain": [
              "<AxesSubplot:xlabel='km_driven'>"
            ]
          },
          "execution_count": 196,
          "metadata": {},
          "output_type": "execute_result"
        },
        {
          "data": {
            "image/png": "[encoded data removed]",
            "text/plain": [
              "<Figure size 1152x576 with 4 Axes>"
            ]
          },
          "metadata": {
            "needs_background": "light"
          },
          "output_type": "display_data"
        }
      ],
      "source": [
        "plt.figure(figsize=(16,8))\n",
        "plt.subplot(2,2,1)\n",
        "sns.distplot(df['km_driven'])\n",
        "\n",
        "plt.subplot(2,2,2)\n",
        "sns.boxplot(df['km_driven'])\n",
        "\n",
        "plt.subplot(2,2,3)\n",
        "sns.distplot(new_df1['km_driven'])\n",
        "\n",
        "plt.subplot(2,2,4)\n",
        "sns.boxplot(new_df1['km_driven'])"
      ]
    },
    {
      "cell_type": "code",
      "execution_count": null,
      "id": "38df82c4",
      "metadata": {
        "id": "38df82c4"
      },
      "outputs": [],
      "source": [
        "import scipy.stats as stats"
      ]
    },
    {
      "cell_type": "markdown",
      "id": "9424befb",
      "metadata": {
        "id": "9424befb"
      },
      "source": [
        "# PDF and QQ plot"
      ]
    },
    {
      "cell_type": "code",
      "execution_count": null,
      "id": "f69740c9",
      "metadata": {
        "id": "f69740c9",
        "outputId": "3e1b1445-52ca-46a9-8522-fa29938ac363"
      },
      "outputs": [
        {
          "name": "stdout",
          "output_type": "stream",
          "text": [
            "accuracy :  0.6662566625666256\n"
          ]
        }
      ],
      "source": [
        "import pandas as pd\n",
        "import numpy as np\n",
        "\n",
        "import scipy.stats as stats\n",
        "\n",
        "import matplotlib.pyplot as plt\n",
        "import seaborn as sns\n",
        "\n",
        "\n",
        "from sklearn.metrics import accuracy_score\n",
        "from sklearn.model_selection import cross_val_score\n",
        "\n",
        "\n",
        "from sklearn.tree import DecisionTreeClassifier\n",
        "\n",
        "from sklearn.preprocessing import FunctionTransformer\n",
        "from sklearn.compose import ColumnTransformer\n",
        "#Function transformation (Log Transform)\n",
        "from sklearn.preprocessing import FunctionTransformer\n",
        "trf = FunctionTransformer(func=np.log1p)\n",
        "X_train_transformed= trf.fit_transform(X_train)\n",
        "X_test_transformed= trf.transform(X_test)\n",
        "#with log transformation\n",
        "from sklearn.linear_model import LogisticRegression\n",
        "clf = LogisticRegression()\n",
        "clf.fit(X_train_transformed,y_train)\n",
        "y_pred= clf.predict(X_test_transformed)\n",
        "\n",
        "print(\"accuracy : \", accuracy_score(y_test, y_pred))"
      ]
    },
    {
      "cell_type": "code",
      "execution_count": null,
      "id": "1b61bb19",
      "metadata": {
        "id": "1b61bb19",
        "outputId": "8da3397b-58cb-497f-f451-3a3e40aa0c90"
      },
      "outputs": [
        {
          "data": {
            "image/png": "[encoded data removed]",
            "text/plain": [
              "<Figure size 1008x288 with 2 Axes>"
            ]
          },
          "metadata": {
            "needs_background": "light"
          },
          "output_type": "display_data"
        }
      ],
      "source": [
        "plt.figure(figsize=(14,4))\n",
        "\n",
        "plt.subplot(121)\n",
        "stats.probplot(X_train['km_driven'], dist=\"norm\", plot=plt)\n",
        "plt.title('Fare Before Log')\n",
        "\n",
        "plt.subplot(122)\n",
        "stats.probplot(X_train_transformed['km_driven'], dist=\"norm\", plot=plt)\n",
        "plt.title('Fare After Log')\n",
        "\n",
        "plt.show()\n"
      ]
    },
    {
      "cell_type": "markdown",
      "id": "b1946ad3",
      "metadata": {
        "id": "b1946ad3"
      },
      "source": [
        "# box-cox"
      ]
    },
    {
      "cell_type": "code",
      "execution_count": null,
      "id": "5c57ef01",
      "metadata": {
        "id": "5c57ef01",
        "outputId": "1f78b72f-f380-42e7-d3ef-19b0dc866d60"
      },
      "outputs": [
        {
          "data": {
            "image/png": "[encoded data removed]",
            "text/plain": [
              "<Figure size 1008x288 with 2 Axes>"
            ]
          },
          "metadata": {
            "needs_background": "light"
          },
          "output_type": "display_data"
        },
        {
          "data": {
            "image/png": "[encoded data removed]",
            "text/plain": [
              "<Figure size 1008x288 with 2 Axes>"
            ]
          },
          "metadata": {
            "needs_background": "light"
          },
          "output_type": "display_data"
        },
        {
          "data": {
            "image/png": "[encoded data removed]",
            "text/plain": [
              "<Figure size 1008x288 with 2 Axes>"
            ]
          },
          "metadata": {
            "needs_background": "light"
          },
          "output_type": "display_data"
        },
        {
          "data": {
            "image/png": "[encoded data removed]",
            "text/plain": [
              "<Figure size 1008x288 with 2 Axes>"
            ]
          },
          "metadata": {
            "needs_background": "light"
          },
          "output_type": "display_data"
        }
      ],
      "source": [
        "for col in X_train.columns:\n",
        "    plt.figure(figsize=(14,4))\n",
        "    plt.subplot(121)\n",
        "    sns.distplot(X_train[col])\n",
        "    plt.title(col)\n",
        "\n",
        "    plt.subplot(122)\n",
        "    stats.probplot(X_train[col], dist=\"norm\", plot=plt)\n",
        "    plt.title(col)\n",
        "\n",
        "    plt.show()"
      ]
    },
    {
      "cell_type": "code",
      "execution_count": null,
      "id": "454a8068",
      "metadata": {
        "id": "454a8068",
        "outputId": "0b13b767-65e5-42ef-aef0-eb37040fd02d"
      },
      "outputs": [
        {
          "data": {
            "text/html": [
              "<div>\n",
              "<style scoped>\n",
              "    .dataframe tbody tr th:only-of-type {\n",
              "        vertical-align: middle;\n",
              "    }\n",
              "\n",
              "    .dataframe tbody tr th {\n",
              "        vertical-align: top;\n",
              "    }\n",
              "\n",
              "    .dataframe thead th {\n",
              "        text-align: right;\n",
              "    }\n",
              "</style>\n",
              "<table border=\"1\" class=\"dataframe\">\n",
              "  <thead>\n",
              "    <tr style=\"text-align: right;\">\n",
              "      <th></th>\n",
              "      <th>cols</th>\n",
              "      <th>box_cox_lambdas</th>\n",
              "    </tr>\n",
              "  </thead>\n",
              "  <tbody>\n",
              "    <tr>\n",
              "      <th>0</th>\n",
              "      <td>brand</td>\n",
              "      <td>-0.016376</td>\n",
              "    </tr>\n",
              "    <tr>\n",
              "      <th>1</th>\n",
              "      <td>km_driven</td>\n",
              "      <td>0.275529</td>\n",
              "    </tr>\n",
              "    <tr>\n",
              "      <th>2</th>\n",
              "      <td>fuel</td>\n",
              "      <td>0.345177</td>\n",
              "    </tr>\n",
              "    <tr>\n",
              "      <th>3</th>\n",
              "      <td>selling_price</td>\n",
              "      <td>-0.931673</td>\n",
              "    </tr>\n",
              "  </tbody>\n",
              "</table>\n",
              "</div>"
            ],
            "text/plain": [
              "            cols  box_cox_lambdas\n",
              "0          brand        -0.016376\n",
              "1      km_driven         0.275529\n",
              "2           fuel         0.345177\n",
              "3  selling_price        -0.931673"
            ]
          },
          "execution_count": 200,
          "metadata": {},
          "output_type": "execute_result"
        }
      ],
      "source": [
        "from sklearn.model_selection import train_test_split\n",
        "from sklearn.model_selection import cross_val_score\n",
        "\n",
        "from sklearn.linear_model import LinearRegression\n",
        "\n",
        "from sklearn.metrics import r2_score\n",
        "\n",
        "from sklearn.preprocessing import PowerTransformer\n",
        "\n",
        "from sklearn.preprocessing import PowerTransformer\n",
        "pt = PowerTransformer()\n",
        "X_train_transformed = pt.fit_transform(X_train_scaled+ 0.00001 )\n",
        "X_test_transformed = pt.transform(X_test+0.000001)\n",
        "pd.DataFrame({'cols':X_train.columns,'box_cox_lambdas':pt.lambdas_})\n",
        "\n"
      ]
    },
    {
      "cell_type": "code",
      "execution_count": null,
      "id": "fdd22e73",
      "metadata": {
        "id": "fdd22e73",
        "outputId": "336876a7-dd0f-4914-e791-a895b5c9d16d"
      },
      "outputs": [
        {
          "ename": "ValueError",
          "evalue": "could not convert string to float: 'First Owner'",
          "output_type": "error",
          "traceback": [
            "\u001b[1;31m---------------------------------------------------------------------------\u001b[0m",
            "\u001b[1;31mValueError\u001b[0m                                Traceback (most recent call last)",
            "\u001b[1;32m<ipython-input-201-21fd98f4fadb>\u001b[0m in \u001b[0;36m<module>\u001b[1;34m\u001b[0m\n\u001b[0;32m      1\u001b[0m \u001b[1;31m# Applying linear regression on transformed data\u001b[0m\u001b[1;33m\u001b[0m\u001b[1;33m\u001b[0m\u001b[1;33m\u001b[0m\u001b[0m\n\u001b[0;32m      2\u001b[0m \u001b[0mlr1\u001b[0m \u001b[1;33m=\u001b[0m \u001b[0mLinearRegression\u001b[0m\u001b[1;33m(\u001b[0m\u001b[1;33m)\u001b[0m\u001b[1;33m\u001b[0m\u001b[1;33m\u001b[0m\u001b[0m\n\u001b[1;32m----> 3\u001b[1;33m \u001b[0mlr1\u001b[0m\u001b[1;33m.\u001b[0m\u001b[0mfit\u001b[0m\u001b[1;33m(\u001b[0m\u001b[0mX_train_transformed\u001b[0m\u001b[1;33m,\u001b[0m\u001b[0my_train\u001b[0m\u001b[1;33m)\u001b[0m\u001b[1;33m\u001b[0m\u001b[1;33m\u001b[0m\u001b[0m\n\u001b[0m\u001b[0;32m      4\u001b[0m \u001b[0my_pred2\u001b[0m \u001b[1;33m=\u001b[0m \u001b[0mlr1\u001b[0m\u001b[1;33m.\u001b[0m\u001b[0mpredict\u001b[0m\u001b[1;33m(\u001b[0m\u001b[0mX_test_transformed\u001b[0m\u001b[1;33m)\u001b[0m\u001b[1;33m\u001b[0m\u001b[1;33m\u001b[0m\u001b[0m\n\u001b[0;32m      5\u001b[0m \u001b[0mr2_score\u001b[0m\u001b[1;33m(\u001b[0m\u001b[0my_test\u001b[0m\u001b[1;33m,\u001b[0m\u001b[0my_pred2\u001b[0m\u001b[1;33m)\u001b[0m\u001b[1;33m\u001b[0m\u001b[1;33m\u001b[0m\u001b[0m\n",
            "\u001b[1;32mC:\\ProgramData\\Anaconda3\\lib\\site-packages\\sklearn\\linear_model\\_base.py\u001b[0m in \u001b[0;36mfit\u001b[1;34m(self, X, y, sample_weight)\u001b[0m\n\u001b[0;32m    516\u001b[0m         \u001b[0maccept_sparse\u001b[0m \u001b[1;33m=\u001b[0m \u001b[1;32mFalse\u001b[0m \u001b[1;32mif\u001b[0m \u001b[0mself\u001b[0m\u001b[1;33m.\u001b[0m\u001b[0mpositive\u001b[0m \u001b[1;32melse\u001b[0m \u001b[1;33m[\u001b[0m\u001b[1;34m'csr'\u001b[0m\u001b[1;33m,\u001b[0m \u001b[1;34m'csc'\u001b[0m\u001b[1;33m,\u001b[0m \u001b[1;34m'coo'\u001b[0m\u001b[1;33m]\u001b[0m\u001b[1;33m\u001b[0m\u001b[1;33m\u001b[0m\u001b[0m\n\u001b[0;32m    517\u001b[0m \u001b[1;33m\u001b[0m\u001b[0m\n\u001b[1;32m--> 518\u001b[1;33m         X, y = self._validate_data(X, y, accept_sparse=accept_sparse,\n\u001b[0m\u001b[0;32m    519\u001b[0m                                    y_numeric=True, multi_output=True)\n\u001b[0;32m    520\u001b[0m \u001b[1;33m\u001b[0m\u001b[0m\n",
            "\u001b[1;32mC:\\ProgramData\\Anaconda3\\lib\\site-packages\\sklearn\\base.py\u001b[0m in \u001b[0;36m_validate_data\u001b[1;34m(self, X, y, reset, validate_separately, **check_params)\u001b[0m\n\u001b[0;32m    431\u001b[0m                 \u001b[0my\u001b[0m \u001b[1;33m=\u001b[0m \u001b[0mcheck_array\u001b[0m\u001b[1;33m(\u001b[0m\u001b[0my\u001b[0m\u001b[1;33m,\u001b[0m \u001b[1;33m**\u001b[0m\u001b[0mcheck_y_params\u001b[0m\u001b[1;33m)\u001b[0m\u001b[1;33m\u001b[0m\u001b[1;33m\u001b[0m\u001b[0m\n\u001b[0;32m    432\u001b[0m             \u001b[1;32melse\u001b[0m\u001b[1;33m:\u001b[0m\u001b[1;33m\u001b[0m\u001b[1;33m\u001b[0m\u001b[0m\n\u001b[1;32m--> 433\u001b[1;33m                 \u001b[0mX\u001b[0m\u001b[1;33m,\u001b[0m \u001b[0my\u001b[0m \u001b[1;33m=\u001b[0m \u001b[0mcheck_X_y\u001b[0m\u001b[1;33m(\u001b[0m\u001b[0mX\u001b[0m\u001b[1;33m,\u001b[0m \u001b[0my\u001b[0m\u001b[1;33m,\u001b[0m \u001b[1;33m**\u001b[0m\u001b[0mcheck_params\u001b[0m\u001b[1;33m)\u001b[0m\u001b[1;33m\u001b[0m\u001b[1;33m\u001b[0m\u001b[0m\n\u001b[0m\u001b[0;32m    434\u001b[0m             \u001b[0mout\u001b[0m \u001b[1;33m=\u001b[0m \u001b[0mX\u001b[0m\u001b[1;33m,\u001b[0m \u001b[0my\u001b[0m\u001b[1;33m\u001b[0m\u001b[1;33m\u001b[0m\u001b[0m\n\u001b[0;32m    435\u001b[0m \u001b[1;33m\u001b[0m\u001b[0m\n",
            "\u001b[1;32mC:\\ProgramData\\Anaconda3\\lib\\site-packages\\sklearn\\utils\\validation.py\u001b[0m in \u001b[0;36minner_f\u001b[1;34m(*args, **kwargs)\u001b[0m\n\u001b[0;32m     61\u001b[0m             \u001b[0mextra_args\u001b[0m \u001b[1;33m=\u001b[0m \u001b[0mlen\u001b[0m\u001b[1;33m(\u001b[0m\u001b[0margs\u001b[0m\u001b[1;33m)\u001b[0m \u001b[1;33m-\u001b[0m \u001b[0mlen\u001b[0m\u001b[1;33m(\u001b[0m\u001b[0mall_args\u001b[0m\u001b[1;33m)\u001b[0m\u001b[1;33m\u001b[0m\u001b[1;33m\u001b[0m\u001b[0m\n\u001b[0;32m     62\u001b[0m             \u001b[1;32mif\u001b[0m \u001b[0mextra_args\u001b[0m \u001b[1;33m<=\u001b[0m \u001b[1;36m0\u001b[0m\u001b[1;33m:\u001b[0m\u001b[1;33m\u001b[0m\u001b[1;33m\u001b[0m\u001b[0m\n\u001b[1;32m---> 63\u001b[1;33m                 \u001b[1;32mreturn\u001b[0m \u001b[0mf\u001b[0m\u001b[1;33m(\u001b[0m\u001b[1;33m*\u001b[0m\u001b[0margs\u001b[0m\u001b[1;33m,\u001b[0m \u001b[1;33m**\u001b[0m\u001b[0mkwargs\u001b[0m\u001b[1;33m)\u001b[0m\u001b[1;33m\u001b[0m\u001b[1;33m\u001b[0m\u001b[0m\n\u001b[0m\u001b[0;32m     64\u001b[0m \u001b[1;33m\u001b[0m\u001b[0m\n\u001b[0;32m     65\u001b[0m             \u001b[1;31m# extra_args > 0\u001b[0m\u001b[1;33m\u001b[0m\u001b[1;33m\u001b[0m\u001b[1;33m\u001b[0m\u001b[0m\n",
            "\u001b[1;32mC:\\ProgramData\\Anaconda3\\lib\\site-packages\\sklearn\\utils\\validation.py\u001b[0m in \u001b[0;36mcheck_X_y\u001b[1;34m(X, y, accept_sparse, accept_large_sparse, dtype, order, copy, force_all_finite, ensure_2d, allow_nd, multi_output, ensure_min_samples, ensure_min_features, y_numeric, estimator)\u001b[0m\n\u001b[0;32m    827\u001b[0m         \u001b[0m_assert_all_finite\u001b[0m\u001b[1;33m(\u001b[0m\u001b[0my\u001b[0m\u001b[1;33m)\u001b[0m\u001b[1;33m\u001b[0m\u001b[1;33m\u001b[0m\u001b[0m\n\u001b[0;32m    828\u001b[0m     \u001b[1;32mif\u001b[0m \u001b[0my_numeric\u001b[0m \u001b[1;32mand\u001b[0m \u001b[0my\u001b[0m\u001b[1;33m.\u001b[0m\u001b[0mdtype\u001b[0m\u001b[1;33m.\u001b[0m\u001b[0mkind\u001b[0m \u001b[1;33m==\u001b[0m \u001b[1;34m'O'\u001b[0m\u001b[1;33m:\u001b[0m\u001b[1;33m\u001b[0m\u001b[1;33m\u001b[0m\u001b[0m\n\u001b[1;32m--> 829\u001b[1;33m         \u001b[0my\u001b[0m \u001b[1;33m=\u001b[0m \u001b[0my\u001b[0m\u001b[1;33m.\u001b[0m\u001b[0mastype\u001b[0m\u001b[1;33m(\u001b[0m\u001b[0mnp\u001b[0m\u001b[1;33m.\u001b[0m\u001b[0mfloat64\u001b[0m\u001b[1;33m)\u001b[0m\u001b[1;33m\u001b[0m\u001b[1;33m\u001b[0m\u001b[0m\n\u001b[0m\u001b[0;32m    830\u001b[0m \u001b[1;33m\u001b[0m\u001b[0m\n\u001b[0;32m    831\u001b[0m     \u001b[0mcheck_consistent_length\u001b[0m\u001b[1;33m(\u001b[0m\u001b[0mX\u001b[0m\u001b[1;33m,\u001b[0m \u001b[0my\u001b[0m\u001b[1;33m)\u001b[0m\u001b[1;33m\u001b[0m\u001b[1;33m\u001b[0m\u001b[0m\n",
            "\u001b[1;31mValueError\u001b[0m: could not convert string to float: 'First Owner'"
          ]
        }
      ],
      "source": [
        "# Applying linear regression on transformed data\n",
        "lr1 = LinearRegression()\n",
        "lr1.fit(X_train_transformed,y_train)\n",
        "y_pred2 = lr1.predict(X_test_transformed)\n",
        "r2_score(y_test,y_pred2)"
      ]
    },
    {
      "cell_type": "code",
      "execution_count": null,
      "id": "743210a9",
      "metadata": {
        "id": "743210a9"
      },
      "outputs": [],
      "source": []
    }
  ],
  "metadata": {
    "kernelspec": {
      "display_name": "Python 3",
      "language": "python",
      "name": "python3"
    },
    "language_info": {
      "codemirror_mode": {
        "name": "ipython",
        "version": 3
      },
      "file_extension": ".py",
      "mimetype": "text/x-python",
      "name": "python",
      "nbconvert_exporter": "python",
      "pygments_lexer": "ipython3",
      "version": "3.8.8"
    },
    "colab": {
      "provenance": [],
      "include_colab_link": true
    }
  },
  "nbformat": 4,
  "nbformat_minor": 5
}