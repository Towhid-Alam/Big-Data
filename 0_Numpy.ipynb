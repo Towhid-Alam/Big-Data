{
  "nbformat": 4,
  "nbformat_minor": 0,
  "metadata": {
    "colab": {
      "provenance": [],
      "authorship_tag": "ABX9TyOF/H2aEBDqskK02TM30eKQ",
      "include_colab_link": true
    },
    "kernelspec": {
      "name": "python3",
      "display_name": "Python 3"
    },
    "language_info": {
      "name": "python"
    }
  },
  "cells": [
    {
      "cell_type": "markdown",
      "metadata": {
        "id": "view-in-github",
        "colab_type": "text"
      },
      "source": [
        "<a href=\"https://colab.research.google.com/github/Towhid-Alam/Big-Data/blob/main/0_Numpy.ipynb\" target=\"_parent\"><img src=\"https://colab.research.google.com/assets/colab-badge.svg\" alt=\"Open In Colab\"/></a>"
      ]
    },
    {
      "cell_type": "markdown",
      "source": [
        "# ***NumPy***"
      ],
      "metadata": {
        "id": "HuJyds_o4f38"
      }
    },
    {
      "cell_type": "markdown",
      "source": [
        "***1.1 Creating Arrays***"
      ],
      "metadata": {
        "id": "HzeAeROmBmdC"
      }
    },
    {
      "cell_type": "code",
      "execution_count": null,
      "metadata": {
        "colab": {
          "base_uri": "https://localhost:8080/"
        },
        "id": "Ua5MPrAm4YRg",
        "outputId": "b28c95c5-ad18-43db-b39c-9ca75d39a600"
      },
      "outputs": [
        {
          "output_type": "stream",
          "name": "stdout",
          "text": [
            "[3 6 5 5]\n",
            "<class 'numpy.ndarray'>\n",
            "[3 6 5 5]\n"
          ]
        }
      ],
      "source": [
        "import numpy as np\n",
        "towhid = np.array([3,6,5,5])\n",
        "print(towhid)\n",
        "print(type(towhid))\n",
        "\n",
        "diu = np.array((3,6,5,5)) #Tuple used to create a numoy array\n",
        "print(diu)"
      ]
    },
    {
      "cell_type": "markdown",
      "source": [
        "***1.2 Dimensions in Arrays***"
      ],
      "metadata": {
        "id": "PByFiR3LBvHY"
      }
    },
    {
      "cell_type": "code",
      "source": [
        "d0 = np.array(3655) #0-D Array\n",
        "print(d0)\n",
        "print(\"\\n\")\n",
        "d1 = np.array([3,6,5,5]) #1-D Array\n",
        "print(d1)\n",
        "print(\"\\n\")\n",
        "d2 = np.array([[3,6,5,5],[3,6,5,5]]) #0-D Array\n",
        "print(d2)\n",
        "print(\"\\n\")\n",
        "\n",
        "d3 = np.array([[[3,6,5,5],[3,6,5,5]],[[3,6,5,5],[3,6,5,5]]]) #0-D Array\n",
        "print(d3)\n",
        "print(\"\\n\")\n",
        "\n",
        "d4 = np.array([[[[3,6,5,5],[3,6,5,5]],[[3,6,5,5],[3,6,5,5]]],[[[3,6,5,5],[3,6,5,5]],[[3,6,5,5],[3,6,5,5]]]]) #0-D Array\n",
        "print(d4)\n",
        "print(\"\\n\")\n"
      ],
      "metadata": {
        "colab": {
          "base_uri": "https://localhost:8080/"
        },
        "id": "_zhXB9uHCAb2",
        "outputId": "285182be-f031-4b96-ba20-eb239ee87c31"
      },
      "execution_count": null,
      "outputs": [
        {
          "output_type": "stream",
          "name": "stdout",
          "text": [
            "3655\n",
            "\n",
            "\n",
            "[3 6 5 5]\n",
            "\n",
            "\n",
            "[[3 6 5 5]\n",
            " [3 6 5 5]]\n",
            "\n",
            "\n",
            "[[[3 6 5 5]\n",
            "  [3 6 5 5]]\n",
            "\n",
            " [[3 6 5 5]\n",
            "  [3 6 5 5]]]\n",
            "\n",
            "\n",
            "[[[[3 6 5 5]\n",
            "   [3 6 5 5]]\n",
            "\n",
            "  [[3 6 5 5]\n",
            "   [3 6 5 5]]]\n",
            "\n",
            "\n",
            " [[[3 6 5 5]\n",
            "   [3 6 5 5]]\n",
            "\n",
            "  [[3 6 5 5]\n",
            "   [3 6 5 5]]]]\n",
            "\n",
            "\n"
          ]
        }
      ]
    },
    {
      "cell_type": "markdown",
      "source": [
        "***1.3 Number of Dimensions***"
      ],
      "metadata": {
        "id": "I9zQV9RREWd-"
      }
    },
    {
      "cell_type": "code",
      "source": [
        "d0 = np.array(3655) #0-D Array\n",
        "d1 = np.array([3,6,5,5]) #1-D Array\n",
        "d2 = np.array([[3,6,5,5],[3,6,5,5]]) #0-D Array\n",
        "d3 = np.array([[[3,6,5,5],[3,6,5,5]],[[3,6,5,5],[3,6,5,5]]]) #0-D Array\n",
        "d4 = np.array([[[[3,6,5,5],[3,6,5,5]],[[3,6,5,5],[3,6,5,5]]],[[[3,6,5,5],[3,6,5,5]],[[3,6,5,5],[3,6,5,5]]]]) #0-D Array\n",
        "\n",
        "print(d0.ndim)\n",
        "print(d1.ndim)\n",
        "print(d2.ndim)\n",
        "print(d3.ndim)\n",
        "print(d4.ndim)"
      ],
      "metadata": {
        "colab": {
          "base_uri": "https://localhost:8080/"
        },
        "id": "yXBRera-Ed_C",
        "outputId": "aa7e1292-1223-4936-f8e5-4246ef9861f1"
      },
      "execution_count": null,
      "outputs": [
        {
          "output_type": "stream",
          "name": "stdout",
          "text": [
            "0\n",
            "1\n",
            "2\n",
            "3\n",
            "4\n"
          ]
        }
      ]
    },
    {
      "cell_type": "markdown",
      "source": [
        "***1.3 Defining Number of Dimensions***"
      ],
      "metadata": {
        "id": "lvBfaA1jFFEe"
      }
    },
    {
      "cell_type": "code",
      "source": [
        "towhid = np.array([3,6,5,5], ndmin=5)\n",
        "print(towhid)\n",
        "print(\"Number of Dimensions =\",towhid.ndim)"
      ],
      "metadata": {
        "colab": {
          "base_uri": "https://localhost:8080/"
        },
        "id": "NDSnHCWFFPRW",
        "outputId": "ad68ddaa-5de5-4cf0-b3c1-dde03e7258d4"
      },
      "execution_count": null,
      "outputs": [
        {
          "output_type": "stream",
          "name": "stdout",
          "text": [
            "[[[[[3 6 5 5]]]]]\n",
            "Number of Dimensions = 5\n"
          ]
        }
      ]
    },
    {
      "cell_type": "markdown",
      "source": [
        "***2.1 Accessing Array Elements***"
      ],
      "metadata": {
        "id": "WaKBke1aF_aG"
      }
    },
    {
      "cell_type": "code",
      "source": [
        "towhid = np.array([3,6,5,5])\n",
        "print(towhid[2])  #Third element output\n",
        "print(towhid[2]+towhid[3])  #Addition of 3rd and 4th Elements"
      ],
      "metadata": {
        "id": "Flo36pASGTi_",
        "colab": {
          "base_uri": "https://localhost:8080/"
        },
        "outputId": "dd3f9d9f-eda0-449f-fcce-086db881cbd2"
      },
      "execution_count": null,
      "outputs": [
        {
          "output_type": "stream",
          "name": "stdout",
          "text": [
            "5\n",
            "10\n"
          ]
        }
      ]
    },
    {
      "cell_type": "markdown",
      "source": [
        "***2.2 Accessing 2D Arrays***"
      ],
      "metadata": {
        "id": "nqqGrpBauzXs"
      }
    },
    {
      "cell_type": "code",
      "source": [
        "towhid = np.array([[3,6,5,5],[7,8,9,10]])\n",
        "print(towhid[1,2]) #Access 9\n",
        "\n",
        "towhid = np.array([[3,6,5,5],[7,8,9,10]])\n",
        "print(towhid[1,2],towhid[1,3]) #Access 9 and 10"
      ],
      "metadata": {
        "colab": {
          "base_uri": "https://localhost:8080/"
        },
        "id": "o1hEvHCVu2DU",
        "outputId": "588fa218-5552-4ca9-fac0-0aff510a7f15"
      },
      "execution_count": null,
      "outputs": [
        {
          "output_type": "stream",
          "name": "stdout",
          "text": [
            "9\n",
            "9 10\n"
          ]
        }
      ]
    },
    {
      "cell_type": "markdown",
      "source": [
        "***2.3 Accessing 3D Arrays***"
      ],
      "metadata": {
        "id": "-gSC1QQFxuDP"
      }
    },
    {
      "cell_type": "code",
      "source": [
        "towhid = np.array([[[3,6,5,5],[7,8,9,10]],[[0,1,2,3],[4,11,12,13]]])\n",
        "print(towhid[1,1,2]) #Access 12\n",
        "\n",
        "towhid = np.array([[[3,6,5,5],[7,8,9,10]],[[0,1,2,3],[4,11,12,13]]])\n",
        "print(towhid[1,0,1],towhid[1,1,3]) #Access 1 and 13"
      ],
      "metadata": {
        "colab": {
          "base_uri": "https://localhost:8080/"
        },
        "id": "63a0BDYsxwVN",
        "outputId": "ef2ac27a-83e5-48bd-ee63-d54c96df2c28"
      },
      "execution_count": null,
      "outputs": [
        {
          "output_type": "stream",
          "name": "stdout",
          "text": [
            "12\n",
            "1 13\n"
          ]
        }
      ]
    },
    {
      "cell_type": "markdown",
      "source": [
        "***2.4 Negative Indexing***"
      ],
      "metadata": {
        "id": "1wKWhZS6y5pk"
      }
    },
    {
      "cell_type": "code",
      "source": [
        "towhid = np.array([[[3,6,5,5],[7,8,9,10]],[[0,1,2,3],[4,11,12,13]]])\n",
        "print(towhid[1,1,-4]) #Access 4"
      ],
      "metadata": {
        "colab": {
          "base_uri": "https://localhost:8080/"
        },
        "id": "iUYkQJway9YN",
        "outputId": "d86ea494-d3ba-4bf2-aa1c-daf0a1df8f2a"
      },
      "execution_count": null,
      "outputs": [
        {
          "output_type": "stream",
          "name": "stdout",
          "text": [
            "4\n"
          ]
        }
      ]
    },
    {
      "cell_type": "markdown",
      "source": [
        "***3.1 Slicing arrays***"
      ],
      "metadata": {
        "id": "57CsXAiizRgp"
      }
    },
    {
      "cell_type": "code",
      "source": [],
      "metadata": {
        "id": "RuNmW-3bzX_r"
      },
      "execution_count": null,
      "outputs": []
    }
  ]
}