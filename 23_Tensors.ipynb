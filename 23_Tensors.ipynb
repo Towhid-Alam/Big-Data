{
  "cells": [
    {
      "cell_type": "markdown",
      "metadata": {
        "id": "view-in-github",
        "colab_type": "text"
      },
      "source": [
        "<a href=\"https://colab.research.google.com/github/Towhid-Alam/Big-Data/blob/main/23_Tensors.ipynb\" target=\"_parent\"><img src=\"https://colab.research.google.com/assets/colab-badge.svg\" alt=\"Open In Colab\"/></a>"
      ]
    },
    {
      "cell_type": "code",
      "execution_count": 1,
      "id": "f6d5aaa0",
      "metadata": {
        "id": "f6d5aaa0"
      },
      "outputs": [],
      "source": [
        "import torch\n",
        "import numpy as np"
      ]
    },
    {
      "cell_type": "code",
      "execution_count": 2,
      "id": "54eb9df4",
      "metadata": {
        "id": "54eb9df4",
        "outputId": "aa612750-a906-4652-8712-71933211c5ee",
        "colab": {
          "base_uri": "https://localhost:8080/"
        }
      },
      "outputs": [
        {
          "output_type": "execute_result",
          "data": {
            "text/plain": [
              "tensor([[1, 2],\n",
              "        [3, 4]])"
            ]
          },
          "metadata": {},
          "execution_count": 2
        }
      ],
      "source": [
        "data=[[1,2],[3,4]]\n",
        "x_data= torch.tensor(data)\n",
        "x_data"
      ]
    },
    {
      "cell_type": "code",
      "execution_count": 3,
      "id": "d747914c",
      "metadata": {
        "id": "d747914c",
        "outputId": "e16c7edc-c6f2-4960-be06-2bcda2925a6a",
        "colab": {
          "base_uri": "https://localhost:8080/"
        }
      },
      "outputs": [
        {
          "output_type": "execute_result",
          "data": {
            "text/plain": [
              "array([[1, 2],\n",
              "       [3, 4]])"
            ]
          },
          "metadata": {},
          "execution_count": 3
        }
      ],
      "source": [
        "arr=np.array(data)\n",
        "arr"
      ]
    },
    {
      "cell_type": "code",
      "execution_count": 4,
      "id": "c535d922",
      "metadata": {
        "id": "c535d922",
        "outputId": "744d1c58-07af-4938-d575-53a276784496",
        "colab": {
          "base_uri": "https://localhost:8080/"
        }
      },
      "outputs": [
        {
          "output_type": "execute_result",
          "data": {
            "text/plain": [
              "tensor([[1, 2],\n",
              "        [3, 4]])"
            ]
          },
          "metadata": {},
          "execution_count": 4
        }
      ],
      "source": [
        "x=torch.from_numpy(arr)\n",
        "x"
      ]
    },
    {
      "cell_type": "code",
      "execution_count": 5,
      "id": "8b0cf6f3",
      "metadata": {
        "id": "8b0cf6f3",
        "outputId": "6cfc7ede-c595-4acd-baba-43b9727b1444",
        "colab": {
          "base_uri": "https://localhost:8080/"
        }
      },
      "outputs": [
        {
          "output_type": "execute_result",
          "data": {
            "text/plain": [
              "tensor([[1, 1],\n",
              "        [1, 1]])"
            ]
          },
          "metadata": {},
          "execution_count": 5
        }
      ],
      "source": [
        "x_ones= torch.ones_like(x)\n",
        "x_ones"
      ]
    },
    {
      "cell_type": "code",
      "execution_count": 6,
      "id": "7c49c27c",
      "metadata": {
        "id": "7c49c27c",
        "outputId": "80780343-0fc6-4d43-ebcc-66a19667c910",
        "colab": {
          "base_uri": "https://localhost:8080/"
        }
      },
      "outputs": [
        {
          "output_type": "execute_result",
          "data": {
            "text/plain": [
              "tensor([[0, 0],\n",
              "        [0, 0]])"
            ]
          },
          "metadata": {},
          "execution_count": 6
        }
      ],
      "source": [
        "x_zeros= torch.zeros_like(x)\n",
        "x_zeros"
      ]
    },
    {
      "cell_type": "code",
      "execution_count": 7,
      "id": "8ac2e096",
      "metadata": {
        "id": "8ac2e096",
        "outputId": "c6c3c2e1-dced-4a71-95b5-553b3254ef6a",
        "colab": {
          "base_uri": "https://localhost:8080/"
        }
      },
      "outputs": [
        {
          "output_type": "execute_result",
          "data": {
            "text/plain": [
              "tensor([[0.5570, 0.3226],\n",
              "        [0.9701, 0.0957]])"
            ]
          },
          "metadata": {},
          "execution_count": 7
        }
      ],
      "source": [
        "x_rand= torch.rand_like(x, dtype=torch.float)\n",
        "x_rand"
      ]
    },
    {
      "cell_type": "code",
      "execution_count": 8,
      "id": "a942fd8d",
      "metadata": {
        "id": "a942fd8d",
        "outputId": "6e7ada90-d422-48d5-8aca-9be512d7f2ec",
        "colab": {
          "base_uri": "https://localhost:8080/"
        }
      },
      "outputs": [
        {
          "output_type": "execute_result",
          "data": {
            "text/plain": [
              "tensor([[0.0074, 0.8965, 0.2029],\n",
              "        [0.5121, 0.9988, 0.5204]])"
            ]
          },
          "metadata": {},
          "execution_count": 8
        }
      ],
      "source": [
        "rand_tensor= torch.rand(2,3)\n",
        "rand_tensor"
      ]
    },
    {
      "cell_type": "code",
      "execution_count": 9,
      "id": "1255f929",
      "metadata": {
        "id": "1255f929",
        "outputId": "78da140c-41de-452a-f9e9-ae8a0e89c287",
        "colab": {
          "base_uri": "https://localhost:8080/"
        }
      },
      "outputs": [
        {
          "output_type": "execute_result",
          "data": {
            "text/plain": [
              "tensor([[1., 1., 1.],\n",
              "        [1., 1., 1.]])"
            ]
          },
          "metadata": {},
          "execution_count": 9
        }
      ],
      "source": [
        "ones_tensor= torch.ones(2,3, dtype=torch.float32)\n",
        "ones_tensor"
      ]
    },
    {
      "cell_type": "code",
      "execution_count": 10,
      "id": "6c82df3c",
      "metadata": {
        "id": "6c82df3c",
        "outputId": "743889dc-a017-41b7-c31c-7a2e124cc5c0",
        "colab": {
          "base_uri": "https://localhost:8080/"
        }
      },
      "outputs": [
        {
          "output_type": "execute_result",
          "data": {
            "text/plain": [
              "tensor([[0., 0., 0.],\n",
              "        [0., 0., 0.]])"
            ]
          },
          "metadata": {},
          "execution_count": 10
        }
      ],
      "source": [
        "zeros_tensor= torch.zeros(2,3)\n",
        "zeros_tensor"
      ]
    },
    {
      "cell_type": "code",
      "execution_count": 11,
      "id": "06e097d4",
      "metadata": {
        "id": "06e097d4",
        "outputId": "81f03f8e-4c7b-41c9-be9b-92a84fca4b04",
        "colab": {
          "base_uri": "https://localhost:8080/"
        }
      },
      "outputs": [
        {
          "output_type": "execute_result",
          "data": {
            "text/plain": [
              "torch.Size([2, 3])"
            ]
          },
          "metadata": {},
          "execution_count": 11
        }
      ],
      "source": [
        "rand_tensor.shape"
      ]
    },
    {
      "cell_type": "code",
      "execution_count": 12,
      "id": "de6eada5",
      "metadata": {
        "id": "de6eada5",
        "outputId": "049bd84a-d76a-4d7d-ba32-401543c3e813",
        "colab": {
          "base_uri": "https://localhost:8080/"
        }
      },
      "outputs": [
        {
          "output_type": "execute_result",
          "data": {
            "text/plain": [
              "torch.float32"
            ]
          },
          "metadata": {},
          "execution_count": 12
        }
      ],
      "source": [
        "rand_tensor.dtype"
      ]
    },
    {
      "cell_type": "code",
      "execution_count": 13,
      "id": "1d923a62",
      "metadata": {
        "id": "1d923a62",
        "outputId": "901113f5-27b9-4c53-86b5-c48ecea87bb7",
        "colab": {
          "base_uri": "https://localhost:8080/"
        }
      },
      "outputs": [
        {
          "output_type": "execute_result",
          "data": {
            "text/plain": [
              "device(type='cpu')"
            ]
          },
          "metadata": {},
          "execution_count": 13
        }
      ],
      "source": [
        "rand_tensor.device"
      ]
    },
    {
      "cell_type": "code",
      "execution_count": 14,
      "id": "baf06bea",
      "metadata": {
        "id": "baf06bea"
      },
      "outputs": [],
      "source": [
        "if torch.cuda.is_available():\n",
        "    rand_tensor = rand_tensor.to('cuda')"
      ]
    },
    {
      "cell_type": "code",
      "execution_count": 15,
      "id": "addc0f46",
      "metadata": {
        "id": "addc0f46",
        "outputId": "79d2ed55-7cdb-4097-90f5-8787bf9c6355",
        "colab": {
          "base_uri": "https://localhost:8080/"
        }
      },
      "outputs": [
        {
          "output_type": "execute_result",
          "data": {
            "text/plain": [
              "tensor([[0.0074, 0.8965, 0.2029],\n",
              "        [0.5121, 0.9988, 0.5204]])"
            ]
          },
          "metadata": {},
          "execution_count": 15
        }
      ],
      "source": [
        " rand_tensor"
      ]
    },
    {
      "cell_type": "code",
      "execution_count": 16,
      "id": "789e2b78",
      "metadata": {
        "id": "789e2b78",
        "outputId": "f4ab0f07-37df-4426-c05c-a4fda02c0c20",
        "colab": {
          "base_uri": "https://localhost:8080/"
        }
      },
      "outputs": [
        {
          "output_type": "execute_result",
          "data": {
            "text/plain": [
              "tensor([[0.0074, 1.0000, 0.2029],\n",
              "        [0.5121, 1.0000, 0.5204]])"
            ]
          },
          "metadata": {},
          "execution_count": 16
        }
      ],
      "source": [
        "rand_tensor[:,1]=1\n",
        "rand_tensor"
      ]
    },
    {
      "cell_type": "code",
      "execution_count": 17,
      "id": "b1ba89e1",
      "metadata": {
        "id": "b1ba89e1",
        "outputId": "0a10d704-c61a-413a-cb36-c7b4fc2476e3",
        "colab": {
          "base_uri": "https://localhost:8080/"
        }
      },
      "outputs": [
        {
          "output_type": "execute_result",
          "data": {
            "text/plain": [
              "tensor([0.0074, 1.0000, 0.2029])"
            ]
          },
          "metadata": {},
          "execution_count": 17
        }
      ],
      "source": [
        "rand_tensor[0]"
      ]
    },
    {
      "cell_type": "code",
      "execution_count": 19,
      "id": "d147b3b2",
      "metadata": {
        "id": "d147b3b2",
        "outputId": "fd80535f-5259-4681-9f93-5409e1f8df38",
        "colab": {
          "base_uri": "https://localhost:8080/"
        }
      },
      "outputs": [
        {
          "output_type": "execute_result",
          "data": {
            "text/plain": [
              "tensor([0.0074, 0.5121])"
            ]
          },
          "metadata": {},
          "execution_count": 19
        }
      ],
      "source": [
        "rand_tensor[:,0]"
      ]
    },
    {
      "cell_type": "code",
      "execution_count": 18,
      "id": "b3cb4dad",
      "metadata": {
        "id": "b3cb4dad",
        "outputId": "5a73c163-8b13-465c-85ac-fab358c03da4",
        "colab": {
          "base_uri": "https://localhost:8080/"
        }
      },
      "outputs": [
        {
          "output_type": "execute_result",
          "data": {
            "text/plain": [
              "tensor([0.2029, 0.5204])"
            ]
          },
          "metadata": {},
          "execution_count": 18
        }
      ],
      "source": [
        "rand_tensor[...,-1]"
      ]
    },
    {
      "cell_type": "code",
      "execution_count": 20,
      "id": "9c1e9707",
      "metadata": {
        "id": "9c1e9707",
        "outputId": "67996b0f-71f3-4ec8-e39a-6cc705711317",
        "colab": {
          "base_uri": "https://localhost:8080/"
        }
      },
      "outputs": [
        {
          "output_type": "execute_result",
          "data": {
            "text/plain": [
              "tensor(3.2428)"
            ]
          },
          "metadata": {},
          "execution_count": 20
        }
      ],
      "source": [
        "rand_tensor.sum()"
      ]
    },
    {
      "cell_type": "code",
      "execution_count": 21,
      "id": "13f6ca2c",
      "metadata": {
        "id": "13f6ca2c",
        "outputId": "8f1e203e-6a7c-4ef7-d379-a4f8bffcf9d5",
        "colab": {
          "base_uri": "https://localhost:8080/"
        }
      },
      "outputs": [
        {
          "output_type": "execute_result",
          "data": {
            "text/plain": [
              "3.242771625518799"
            ]
          },
          "metadata": {},
          "execution_count": 21
        }
      ],
      "source": [
        "rand_tensor.sum().item()"
      ]
    },
    {
      "cell_type": "code",
      "execution_count": 22,
      "id": "0dc9ff6f",
      "metadata": {
        "id": "0dc9ff6f",
        "outputId": "0d24e0e1-dd79-4636-e11e-a9c6bdf510da",
        "colab": {
          "base_uri": "https://localhost:8080/"
        }
      },
      "outputs": [
        {
          "output_type": "execute_result",
          "data": {
            "text/plain": [
              "tensor([[0.0074, 1.0000, 0.2029, 0.0000, 0.0000, 0.0000],\n",
              "        [0.5121, 1.0000, 0.5204, 0.0000, 0.0000, 0.0000]])"
            ]
          },
          "metadata": {},
          "execution_count": 22
        }
      ],
      "source": [
        "t1= torch.cat([rand_tensor, zeros_tensor],dim=1)\n",
        "t1"
      ]
    },
    {
      "cell_type": "code",
      "execution_count": 23,
      "id": "75cda023",
      "metadata": {
        "id": "75cda023",
        "outputId": "a6aac8ec-9043-4cda-ee64-7df47c9831e2",
        "colab": {
          "base_uri": "https://localhost:8080/"
        }
      },
      "outputs": [
        {
          "output_type": "execute_result",
          "data": {
            "text/plain": [
              "tensor([[0.0074, 1.0000, 0.2029],\n",
              "        [0.5121, 1.0000, 0.5204],\n",
              "        [0.0000, 0.0000, 0.0000],\n",
              "        [0.0000, 0.0000, 0.0000]])"
            ]
          },
          "metadata": {},
          "execution_count": 23
        }
      ],
      "source": [
        "t2= torch.cat([rand_tensor, zeros_tensor],dim=0)\n",
        "t2"
      ]
    },
    {
      "cell_type": "code",
      "execution_count": 24,
      "id": "1ae20314",
      "metadata": {
        "id": "1ae20314",
        "outputId": "af9605bb-13ba-4946-8975-6f157121e3e0",
        "colab": {
          "base_uri": "https://localhost:8080/"
        }
      },
      "outputs": [
        {
          "output_type": "execute_result",
          "data": {
            "text/plain": [
              "tensor([[0.0074, 1.0000, 0.2029],\n",
              "        [0.5121, 1.0000, 0.5204]])"
            ]
          },
          "metadata": {},
          "execution_count": 24
        }
      ],
      "source": [
        "rand_tensor.mul(ones_tensor)"
      ]
    },
    {
      "cell_type": "code",
      "execution_count": 25,
      "id": "ab397f6c",
      "metadata": {
        "id": "ab397f6c",
        "outputId": "b072540f-9734-404c-8b8a-531bc1a95378",
        "colab": {
          "base_uri": "https://localhost:8080/"
        }
      },
      "outputs": [
        {
          "output_type": "execute_result",
          "data": {
            "text/plain": [
              "tensor([[1.0412, 1.1094],\n",
              "        [1.1094, 1.5330]])"
            ]
          },
          "metadata": {},
          "execution_count": 25
        }
      ],
      "source": [
        "rand_tensor.matmul(rand_tensor.T)"
      ]
    },
    {
      "cell_type": "code",
      "execution_count": 26,
      "id": "c2678701",
      "metadata": {
        "id": "c2678701",
        "outputId": "eabf4432-2e1c-49b3-a204-6069569926e5",
        "colab": {
          "base_uri": "https://localhost:8080/"
        }
      },
      "outputs": [
        {
          "output_type": "execute_result",
          "data": {
            "text/plain": [
              "tensor([[5.0074, 6.0000, 5.2029],\n",
              "        [5.5121, 6.0000, 5.5204]])"
            ]
          },
          "metadata": {},
          "execution_count": 26
        }
      ],
      "source": [
        "rand_tensor.add_(5)"
      ]
    },
    {
      "cell_type": "code",
      "execution_count": 27,
      "id": "a914df74",
      "metadata": {
        "id": "a914df74",
        "outputId": "889c1e77-ba83-41c1-879e-dcf4ded5bff7",
        "colab": {
          "base_uri": "https://localhost:8080/"
        }
      },
      "outputs": [
        {
          "output_type": "execute_result",
          "data": {
            "text/plain": [
              "array([1., 1., 1., 1., 1.])"
            ]
          },
          "metadata": {},
          "execution_count": 27
        }
      ],
      "source": [
        "n= np.ones(5)\n",
        "n"
      ]
    },
    {
      "cell_type": "code",
      "execution_count": 28,
      "id": "7239be0f",
      "metadata": {
        "id": "7239be0f",
        "outputId": "a2a1aa9f-a0de-497f-e91d-c137911920b0",
        "colab": {
          "base_uri": "https://localhost:8080/"
        }
      },
      "outputs": [
        {
          "output_type": "execute_result",
          "data": {
            "text/plain": [
              "tensor([1., 1., 1., 1., 1.], dtype=torch.float64)"
            ]
          },
          "metadata": {},
          "execution_count": 28
        }
      ],
      "source": [
        "t=torch.from_numpy(n)\n",
        "t"
      ]
    },
    {
      "cell_type": "code",
      "execution_count": 29,
      "id": "0fcf8463",
      "metadata": {
        "id": "0fcf8463",
        "outputId": "d113a221-541b-41b6-f9ce-c9dfa62ced44",
        "colab": {
          "base_uri": "https://localhost:8080/"
        }
      },
      "outputs": [
        {
          "output_type": "execute_result",
          "data": {
            "text/plain": [
              "tensor([2., 2., 2., 2., 2.], dtype=torch.float64)"
            ]
          },
          "metadata": {},
          "execution_count": 29
        }
      ],
      "source": [
        "t.add_(1)"
      ]
    },
    {
      "cell_type": "code",
      "execution_count": 30,
      "id": "767d2790",
      "metadata": {
        "id": "767d2790",
        "outputId": "05182c79-24e8-499f-c897-2d5780fb0166",
        "colab": {
          "base_uri": "https://localhost:8080/"
        }
      },
      "outputs": [
        {
          "output_type": "stream",
          "name": "stdout",
          "text": [
            "tensor([-42153344.])\n"
          ]
        }
      ],
      "source": [
        "x = torch.empty(1)\n",
        "print(x)"
      ]
    },
    {
      "cell_type": "code",
      "execution_count": 31,
      "id": "57edc9ef",
      "metadata": {
        "id": "57edc9ef",
        "outputId": "de9e7b76-99fa-48f1-d280-e5c8b290235e",
        "colab": {
          "base_uri": "https://localhost:8080/"
        }
      },
      "outputs": [
        {
          "output_type": "execute_result",
          "data": {
            "text/plain": [
              "torch.Size([1])"
            ]
          },
          "metadata": {},
          "execution_count": 31
        }
      ],
      "source": [
        "x.size()"
      ]
    },
    {
      "cell_type": "code",
      "execution_count": 32,
      "id": "381bcc02",
      "metadata": {
        "id": "381bcc02",
        "outputId": "a205a91d-ac41-4113-fbc2-d95b4bea575a",
        "colab": {
          "base_uri": "https://localhost:8080/"
        }
      },
      "outputs": [
        {
          "output_type": "stream",
          "name": "stdout",
          "text": [
            "tensor([[2.6038e-05, 3.3131e-41, 2.1483e-02],\n",
            "        [3.3131e-41, 8.9683e-44, 0.0000e+00]])\n"
          ]
        }
      ],
      "source": [
        "x = torch.empty(2,3)\n",
        "print(x)"
      ]
    },
    {
      "cell_type": "code",
      "execution_count": 33,
      "id": "00ff73db",
      "metadata": {
        "id": "00ff73db",
        "outputId": "c846e9e1-7de7-4736-a483-bb8c77134772",
        "colab": {
          "base_uri": "https://localhost:8080/"
        }
      },
      "outputs": [
        {
          "output_type": "execute_result",
          "data": {
            "text/plain": [
              "tensor([[[ 2.6042e-05,  3.3131e-41,  2.1463e-02],\n",
              "         [ 3.3131e-41,  4.4842e-43,  0.0000e+00]],\n",
              "\n",
              "        [[ 1.5695e-43,  0.0000e+00, -5.0825e+34],\n",
              "         [ 3.3135e-41,  5.6052e-44,  7.4269e-44]]])"
            ]
          },
          "metadata": {},
          "execution_count": 33
        }
      ],
      "source": [
        "torch.empty(2,2,3)"
      ]
    },
    {
      "cell_type": "code",
      "execution_count": 34,
      "id": "710a8b0a",
      "metadata": {
        "id": "710a8b0a",
        "outputId": "9b4e5506-70f1-4b18-9510-c02d4aae6de6",
        "colab": {
          "base_uri": "https://localhost:8080/"
        }
      },
      "outputs": [
        {
          "output_type": "execute_result",
          "data": {
            "text/plain": [
              "tensor([2.6038e-05, 3.3131e-41, 2.1483e-02, 3.3131e-41, 8.9683e-44, 0.0000e+00])"
            ]
          },
          "metadata": {},
          "execution_count": 34
        }
      ],
      "source": [
        "y=x.view(6)\n",
        "y"
      ]
    },
    {
      "cell_type": "code",
      "execution_count": 35,
      "id": "3f9f3100",
      "metadata": {
        "id": "3f9f3100",
        "outputId": "3228de78-7319-42c1-b283-e9fc0eed0c82",
        "colab": {
          "base_uri": "https://localhost:8080/"
        }
      },
      "outputs": [
        {
          "output_type": "execute_result",
          "data": {
            "text/plain": [
              "tensor([[2.6038e-05, 3.3131e-41, 2.1483e-02, 3.3131e-41, 8.9683e-44, 0.0000e+00]])"
            ]
          },
          "metadata": {},
          "execution_count": 35
        }
      ],
      "source": [
        "z=x.view(1,-1)\n",
        "z"
      ]
    },
    {
      "cell_type": "code",
      "execution_count": 36,
      "id": "ef1cf9b1",
      "metadata": {
        "id": "ef1cf9b1",
        "outputId": "4dbd37e8-4fa5-476a-b2af-b8c19070f864",
        "colab": {
          "base_uri": "https://localhost:8080/"
        }
      },
      "outputs": [
        {
          "output_type": "execute_result",
          "data": {
            "text/plain": [
              "(tensor([[1., 1.],\n",
              "         [1., 1.]]),\n",
              " tensor([[1., 1.],\n",
              "         [1., 1.]]))"
            ]
          },
          "metadata": {},
          "execution_count": 36
        }
      ],
      "source": [
        "a= torch.ones(2,2)\n",
        "b= torch.ones(2,2)\n",
        "a,b"
      ]
    },
    {
      "cell_type": "code",
      "execution_count": 37,
      "id": "115f2bee",
      "metadata": {
        "id": "115f2bee",
        "outputId": "b3c57290-27d9-47f1-957a-3a32b458e405",
        "colab": {
          "base_uri": "https://localhost:8080/"
        }
      },
      "outputs": [
        {
          "output_type": "execute_result",
          "data": {
            "text/plain": [
              "tensor([[2., 2.],\n",
              "        [2., 2.]])"
            ]
          },
          "metadata": {},
          "execution_count": 37
        }
      ],
      "source": [
        "a+b"
      ]
    },
    {
      "cell_type": "code",
      "execution_count": 38,
      "id": "394d84ca",
      "metadata": {
        "id": "394d84ca",
        "outputId": "08139f50-4ec1-4084-ebc6-672b347cd32b",
        "colab": {
          "base_uri": "https://localhost:8080/"
        }
      },
      "outputs": [
        {
          "output_type": "execute_result",
          "data": {
            "text/plain": [
              "tensor([[0., 0.],\n",
              "        [0., 0.]])"
            ]
          },
          "metadata": {},
          "execution_count": 38
        }
      ],
      "source": [
        "a-b"
      ]
    },
    {
      "cell_type": "code",
      "execution_count": 39,
      "id": "7f0a6ce5",
      "metadata": {
        "id": "7f0a6ce5",
        "outputId": "4d1279cf-405b-4adf-8a3f-6917be00a1f4",
        "colab": {
          "base_uri": "https://localhost:8080/"
        }
      },
      "outputs": [
        {
          "output_type": "execute_result",
          "data": {
            "text/plain": [
              "tensor([[1., 1.],\n",
              "        [1., 1.]])"
            ]
          },
          "metadata": {},
          "execution_count": 39
        }
      ],
      "source": [
        "a*b"
      ]
    },
    {
      "cell_type": "code",
      "execution_count": 40,
      "id": "f5607395",
      "metadata": {
        "id": "f5607395",
        "outputId": "b3dba9c1-35e0-4e13-db8f-b7948c8d1a94",
        "colab": {
          "base_uri": "https://localhost:8080/"
        }
      },
      "outputs": [
        {
          "output_type": "execute_result",
          "data": {
            "text/plain": [
              "tensor([[1., 1.],\n",
              "        [1., 1.]])"
            ]
          },
          "metadata": {},
          "execution_count": 40
        }
      ],
      "source": [
        "a/b"
      ]
    },
    {
      "cell_type": "code",
      "execution_count": 41,
      "id": "7b39c12b",
      "metadata": {
        "id": "7b39c12b",
        "outputId": "9d478c94-0af6-4524-a278-6836e72b0c02",
        "colab": {
          "base_uri": "https://localhost:8080/"
        }
      },
      "outputs": [
        {
          "output_type": "execute_result",
          "data": {
            "text/plain": [
              "1.0"
            ]
          },
          "metadata": {},
          "execution_count": 41
        }
      ],
      "source": [
        "a[1,1].item()"
      ]
    },
    {
      "cell_type": "code",
      "execution_count": 42,
      "id": "e4a12002",
      "metadata": {
        "id": "e4a12002",
        "outputId": "ac45ec0a-b2e5-4201-bb96-72f8c5253f97",
        "colab": {
          "base_uri": "https://localhost:8080/"
        }
      },
      "outputs": [
        {
          "output_type": "execute_result",
          "data": {
            "text/plain": [
              "tensor([[50, 50, 50],\n",
              "        [50, 50, 50]])"
            ]
          },
          "metadata": {},
          "execution_count": 42
        }
      ],
      "source": [
        "torch.full((2,3),50)"
      ]
    },
    {
      "cell_type": "code",
      "execution_count": null,
      "id": "2bc6ec0e",
      "metadata": {
        "id": "2bc6ec0e"
      },
      "outputs": [],
      "source": []
    }
  ],
  "metadata": {
    "kernelspec": {
      "display_name": "Python 3 (ipykernel)",
      "language": "python",
      "name": "python3"
    },
    "language_info": {
      "codemirror_mode": {
        "name": "ipython",
        "version": 3
      },
      "file_extension": ".py",
      "mimetype": "text/x-python",
      "name": "python",
      "nbconvert_exporter": "python",
      "pygments_lexer": "ipython3",
      "version": "3.9.13"
    },
    "colab": {
      "provenance": [],
      "include_colab_link": true
    }
  },
  "nbformat": 4,
  "nbformat_minor": 5
}